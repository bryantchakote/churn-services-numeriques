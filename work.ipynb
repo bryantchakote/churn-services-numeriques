{
 "cells": [
  {
   "cell_type": "markdown",
   "metadata": {},
   "source": [
    "# **Classification du churn dans une entreprise de service numérique**"
   ]
  },
  {
   "cell_type": "markdown",
   "metadata": {},
   "source": [
    "L'objectif est de prédire la résiliation des clients d'une entreprise de services téléphoniques et Internet à l'aide d'un modèle de Machine Learning.\n",
    "\n",
    "- `CustomerID` : Un identifiant unique pour chaque client.\n",
    "- `Zip Code` : Le code postal de la résidence principale du client.\n",
    "- `Gender` : Le genre du client : Masculin, Féminin.\n",
    "- `Senior Citizen` : Indique si le client a 65 ans ou plus : Oui, Non.\n",
    "- `Partner` : Indique si le client a un partenaire : Oui, Non.\n",
    "- `Dependents` : Indique si le client vit avec des personnes à charge : Oui, Non. Les personnes à charge peuvent être des enfants, parents, grands-parents, etc.\n",
    "- `Tenure Months` : Indique le nombre total de mois que le client a passé avec l'entreprise à la fin du trimestre d'étude.\n",
    "- `Phone Service` : Indique si le client est abonné à un service de téléphone à domicile avec l'entreprise : Oui, Non.\n",
    "- `Multiple Lines` : Indique si le client est abonné à plusieurs lignes téléphoniques avec l'entreprise : Oui, Non.\n",
    "- `Internet Service` : Indique si le client est abonné à un service Internet avec l'entreprise : Non, DSL, Fibre optique.\n",
    "- `Online Security` : Indique si le client est abonné à un service supplémentaire de sécurité en ligne fourni par l'entreprise : Oui, Non.\n",
    "- `Online Backup` : Indique si le client est abonné à un service supplémentaire de sauvegarde en ligne fourni par l'entreprise : Oui, Non.\n",
    "- `Device Protection` : Indique si le client est abonné à un plan de protection supplémentaire pour son équipement Internet fourni par l'entreprise : Oui, Non.\n",
    "- `Tech Support` : Indique si le client est abonné à un plan de support technique supplémentaire avec des temps d'attente réduits : Oui, Non.\n",
    "- `Streaming TV` : Indique si le client utilise son service Internet pour diffuser des programmes télévisés via un fournisseur tiers : Oui, Non. L'entreprise ne facture pas de frais supplémentaires pour ce service.\n",
    "- `Streaming Movies` : Indique si le client utilise son service Internet pour diffuser des films via un fournisseur tiers : Oui, Non. L'entreprise ne facture pas de frais supplémentaires pour ce service.\n",
    "- `Contract` : Indique le type de contrat actuel du client : Mois par Mois, Un an, Deux ans.\n",
    "- `Paperless Billing` : Indique si le client a opté pour la facturation sans papier : Oui, Non.\n",
    "- `Payment Method` : Indique comment le client paye sa facture : Prélèvement bancaire, Carte de crédit, Chèque envoyé par courrier, Chèque automatique.\n",
    "- `Monthly Charge` : Indique le montant total actuel mensuel des services de l'entreprise pour le client.\n",
    "- `Total Charges` : Indique les frais totaux du client, calculés jusqu'à la fin du trimestre spécifié ci-dessus.\n",
    "- `CLTV` : Valeur vie client (Customer Lifetime Value). Une CLTV prédite est calculée à l'aide de formules d'entreprise et de données existantes. Plus la valeur est élevée, plus le client est précieux. Les clients de grande valeur doivent être surveillés pour éviter leur départ.\n",
    "- `Churn Value` : 1 = le client a quitté l'entreprise ce trimestre. 0 = le client est resté avec l'entreprise. Ceci est la variable à prédire."
   ]
  },
  {
   "cell_type": "code",
   "execution_count": null,
   "metadata": {},
   "outputs": [],
   "source": [
    "import numpy as np\n",
    "import pandas as pd\n",
    "import matplotlib.pyplot as plt\n",
    "import seaborn as sns\n",
    "\n",
    "plt.style.use(\"seaborn-v0_8\")\n",
    "color_b, color_g, color_r = sns.color_palette()[:3]"
   ]
  },
  {
   "cell_type": "markdown",
   "metadata": {},
   "source": [
    "## **0. Vision d'ensemble**"
   ]
  },
  {
   "cell_type": "code",
   "execution_count": null,
   "metadata": {},
   "outputs": [],
   "source": [
    "df = pd.read_csv(\"DatasetChurn.csv\")\n",
    "df.head()"
   ]
  },
  {
   "cell_type": "code",
   "execution_count": null,
   "metadata": {},
   "outputs": [],
   "source": [
    "df.info()"
   ]
  },
  {
   "cell_type": "code",
   "execution_count": null,
   "metadata": {},
   "outputs": [],
   "source": [
    "df.nunique()"
   ]
  },
  {
   "cell_type": "markdown",
   "metadata": {},
   "source": [
    "- Les colonnes `Zip Code` et `Lat Long` ont le même nombre de valeurs uniques.\n",
    "- Y'aurait-il une correspondance entre ces deux colonnes ?"
   ]
  },
  {
   "cell_type": "code",
   "execution_count": null,
   "metadata": {},
   "outputs": [],
   "source": [
    "# Confirmons l'association entre un Zip Code et des coordonnées géographiques\n",
    "(\n",
    "    df.groupby(\"Zip Code\")  # pour chaque Zip Code\n",
    "    [\"Lat Long\"].agg(set)   # on récupère l'ensemble des coordonnées géographiques\n",
    "    .apply(len)             # on compte le nombre d'éléments récupérés par ligne\n",
    "    .unique()               # on récupère les valeurs uniques des précédents comptages\n",
    ")"
   ]
  },
  {
   "cell_type": "markdown",
   "metadata": {},
   "source": [
    "- Le résultat ci-dessus confirme l'association entre un Zip Code et des coordonnées géographiques, nous n'allons conserver qu'une seule de ces colonnes.\n",
    "- Il serait plus intéressant de conserver la colonne `Lat Long` pour mieux détecter les tendances liés au positionnement géographique.\n",
    "- Cette colonne sera ensuite splitée en `Lat` et `Long` pour une meilleure exploitation."
   ]
  },
  {
   "cell_type": "code",
   "execution_count": null,
   "metadata": {},
   "outputs": [],
   "source": [
    "df.drop(columns=[\"Zip Code\"], inplace=True)\n",
    "df[\"Lat\"] = df[\"Lat Long\"].str.split(\", \").str[0].astype(float)\n",
    "df[\"Long\"] = df[\"Lat Long\"].str.split(\", \").str[1].astype(float)"
   ]
  },
  {
   "cell_type": "markdown",
   "metadata": {},
   "source": [
    "- Observons les valeurs manquantes"
   ]
  },
  {
   "cell_type": "code",
   "execution_count": null,
   "metadata": {},
   "outputs": [],
   "source": [
    "df.isna().sum()"
   ]
  },
  {
   "cell_type": "code",
   "execution_count": null,
   "metadata": {},
   "outputs": [],
   "source": [
    "n_na = df.isna().any(axis=1).sum()\n",
    "print(f\"Nombre de lignes avec des valeurs manquantes : {n_na}\")\n",
    "print(f\"Pourcentage de lignes avec des valeurs manquantes : {n_na / df.shape[0] * 100:.2f}%\")"
   ]
  },
  {
   "cell_type": "markdown",
   "metadata": {},
   "source": [
    "- Dans un premier temps, nous allons supprimer toutes les lignes concernées, car le nombre de valeurs manquantes est relativement faible.\n",
    "- Par la suite, nous évaluerons s'il est possible de les imputer à l'aide de règles métier ou si une imputation est nécessaire, pourvu que l'impact sur le modèle soit significatif. L'objectif est de minimiser autant que possible toute altération des données."
   ]
  },
  {
   "cell_type": "code",
   "execution_count": null,
   "metadata": {},
   "outputs": [],
   "source": [
    "df.dropna(inplace=True)"
   ]
  },
  {
   "cell_type": "markdown",
   "metadata": {},
   "source": [
    "- Maintenant nous catégorisons les variables selon qu'elles soient discrètes ou continues afin de faciliter l'analyse."
   ]
  },
  {
   "cell_type": "code",
   "execution_count": null,
   "metadata": {},
   "outputs": [],
   "source": [
    "id_col = [\"CustomerID\"]\n",
    "disc = [\"Gender\", \"Senior Citizen\", \"Partner\", \"Dependents\", \"Phone Service\", \"Multiple Lines\", \"Internet Service\", \"Online Security\", \"Online Backup\", \"Device Protection\", \"Tech Support\", \"Streaming TV\", \"Streaming Movies\", \"Contract\", \"Paperless Billing\", \"Payment Method\"]\n",
    "cont = [\"Lat\", \"Long\", \"Monthly Charges\", \"Total Charges\", \"Tenure Months\", \"CLTV\"]\n",
    "target = \"Churn Value\""
   ]
  },
  {
   "cell_type": "markdown",
   "metadata": {},
   "source": [
    "## **1. Analyse des données**"
   ]
  },
  {
   "cell_type": "code",
   "execution_count": null,
   "metadata": {},
   "outputs": [],
   "source": [
    "df[target].value_counts(normalize=True).round(2)"
   ]
  },
  {
   "cell_type": "markdown",
   "metadata": {},
   "source": [
    "- On constate une répartition inégale de la variable cible : 16% des clients résilient leur contrat."
   ]
  },
  {
   "cell_type": "markdown",
   "metadata": {},
   "source": [
    "### **1.1. Variables discrètes**"
   ]
  },
  {
   "cell_type": "code",
   "execution_count": null,
   "metadata": {},
   "outputs": [],
   "source": [
    "print(f\"{len(disc)} variables discrètes : {disc}\")"
   ]
  },
  {
   "cell_type": "code",
   "execution_count": null,
   "metadata": {},
   "outputs": [],
   "source": [
    "def plot_disc_variables(df, cols, n_rows=2, n_cols=8, figsize=(24, 6), fig_title=\"Répartition des variables discètes\", fig_title_font_size=16):\n",
    "    _, axes = plt.subplots(n_rows, n_cols, figsize=figsize)\n",
    "    \n",
    "    if len(cols) > 1:\n",
    "        axes = axes.flatten()\n",
    "    \n",
    "    for i, col in enumerate(cols):\n",
    "        ax = axes[i] if len(cols) > 1 else axes\n",
    "\n",
    "        sns.countplot(data=df, x=col, ax=ax)\n",
    "        \n",
    "        n = df[col].count()\n",
    "        for p in ax.patches:\n",
    "            # Pourcentages\n",
    "            ax.text(\n",
    "                p.get_x() + p.get_width() / 2,\n",
    "                p.get_y() + p.get_height() / 2,\n",
    "                f\"{p.get_height() / n:.0%}\",\n",
    "                ha=\"center\", va=\"center\",\n",
    "                c=\"w\", weight=\"bold\",\n",
    "            )\n",
    "            \n",
    "            # Formatage des labels sur les axes\n",
    "            ax.set_xlabel(col, weight=\"bold\")\n",
    "            ax.set_xticks(ax.get_xticks())\n",
    "            \n",
    "            xticklabels = [\"\\n\".join(label.get_text().split()) for label in ax.get_xticklabels()]\n",
    "            ax.set_xticklabels(xticklabels, rotation=0)\n",
    "            \n",
    "            ax.set_yticks([])\n",
    "            ax.set_ylabel(\"\")\n",
    "\n",
    "    plt.suptitle(fig_title, size=fig_title_font_size, weight=\"bold\")\n",
    "    plt.tight_layout()\n",
    "    plt.show()"
   ]
  },
  {
   "cell_type": "code",
   "execution_count": null,
   "metadata": {},
   "outputs": [],
   "source": [
    "plot_disc_variables(df=df, cols=disc)"
   ]
  },
  {
   "cell_type": "markdown",
   "metadata": {},
   "source": [
    "- Les répartitions hommes/femmes et avec/sans partenaire sont très équilibrées, tandis que les répartitions des personnes agées et des personnes ayant souscrit à un service de téléphone mobile sont déséquilibrées en faveur respecivement des personnes de moins de 65 ans (85%), et des personnes ayant souscrit à un service de téléphone mobile (90%).\n",
    "- On peut également noter que le quart des clients ne vit pas avec des personnes à charge et la moitié renouvelle mensuellement son abonnement, tandis que l'autre moitié est presque équitablement répartie entre les personnes ayant souscrit à un abonnement annuel et les personnes ayant souscrit à un abonnement sur deux ans.\n",
    "- La variable `Multiple Lines` est une version détaillée de `Phone Service`, on mesurera l'impact de la suppression de cette dernière de notre jeu de données.\n",
    "- Aussi, nous remarquons que près du quart des clients de l'échantillon n'est pas abonné à un service Internet. En séparant les données suivant cette variable, ce dernier groupe pourra se passer des 6 variables qui donnent davantage de précisions sur lesdits services : `Online Security`, `Online Backup`, `Device Protection`, `Tech Support`, `Streaming TV` et `Streaming Movies`."
   ]
  },
  {
   "cell_type": "markdown",
   "metadata": {},
   "source": [
    "#### **1.1.1. Séparation avec/sans Internet**"
   ]
  },
  {
   "cell_type": "code",
   "execution_count": null,
   "metadata": {},
   "outputs": [],
   "source": [
    "df_internet = df[df[\"Internet Service\"] != \"No\"].copy()\n",
    "df_no_internet = df[df[\"Internet Service\"] == \"No\"].copy()\n",
    "disc_no_internet = [\"Gender\", \"Senior Citizen\", \"Partner\", \"Dependents\", \"Phone Service\", \"Multiple Lines\", \"Contract\", \"Paperless Billing\", \"Payment Method\"]"
   ]
  },
  {
   "cell_type": "markdown",
   "metadata": {},
   "source": [
    "- Pour juger de la pertinence de ce split, nous évaluons le lien entre les autres variables (discrètes) et la variable cible à travers un test du chi-2."
   ]
  },
  {
   "cell_type": "code",
   "execution_count": null,
   "metadata": {},
   "outputs": [],
   "source": [
    "from scipy.stats import chi2_contingency\n",
    "\n",
    "tmp_dfs = {\n",
    "    \"Avec Internet\": df_internet,\n",
    "    \"Sans Internet\": df_no_internet,\n",
    "}\n",
    "\n",
    "for col in disc_no_internet:\n",
    "    print(f\" {col} \".center(25, \"-\"))\n",
    "    for df_name, tmp_df in tmp_dfs.items():\n",
    "        pvalue = chi2_contingency(pd.crosstab(tmp_df[col], tmp_df[target])).pvalue\n",
    "        lien = \" *\" if pvalue < 0.05 else \"\"\n",
    "        print(f\"- {df_name}\".ljust(15) + f\"  {pvalue:.4f}\" + lien)\n",
    "    print()"
   ]
  },
  {
   "cell_type": "markdown",
   "metadata": {},
   "source": [
    "- On observe qu'effectivement, selon que les clients aient souscrit ou non à un service Internet, le soutien à l'hypothèse d'indépendance entre les variables varie de manière significative. Les test ci-dessus suggèrent, avec un seuil fixé à 2%, des liens de dépendance suivants avec la variable cible :\n",
    "\n",
    "| Colonnes | Avec Internet | Sans Internet |\n",
    "|-|:-:|:-:|\n",
    "| Gender            |   |   |\n",
    "| Senior Citizen    | x |   |\n",
    "| Partner           | x | x |\n",
    "| Dependents        | x | x |\n",
    "| Phone Service     | x |RAS|\n",
    "| Multiple Lines    | x | x |\n",
    "| Contract          | x | x |\n",
    "| Paperless Billing | x |   |\n",
    "| Payment Method    | x | x |\n",
    "\n",
    "- Le fait qu'il existe des différences aussi notoires entre ces deux groupes nous conforte dans ce choix de séparer ainsi les données.\n",
    "- **RAS → Aucune interprétation** : Les clients n'ayant souscrit à aucun service Internet sont forcément des abonnés mobile, on n'a donc qu'une seule modalité dans cette classe (Yes).\n",
    "- Pour davantage comprendre, analysons visuellement ces relations."
   ]
  },
  {
   "cell_type": "code",
   "execution_count": null,
   "metadata": {},
   "outputs": [],
   "source": [
    "def plot_disc_vs_target(df, segment, cols, figsize=(28, 4), fig_title_font_size=20):\n",
    "    _, axes = plt.subplots(1, len(cols), figsize=figsize)\n",
    "    \n",
    "    for i, col in enumerate(cols):\n",
    "        prop_df = pd.crosstab(df[col], df[target])\n",
    "        prop_df = prop_df.div(prop_df.sum(axis=1), axis=0)\n",
    "        \n",
    "        ax = axes[i] if len(cols) > 1 else axes\n",
    "        bar = prop_df.plot(kind=\"bar\", stacked=True, legend=False, color=[color_g, color_r], alpha=0.8, ax=ax)\n",
    "        \n",
    "        # Pourcentages\n",
    "        for i, p in enumerate(bar.patches):\n",
    "            if i < len(bar.patches) / 2:\n",
    "                bar.text(\n",
    "                    p.get_x() + p.get_width() / 2,\n",
    "                    p.get_y() + p.get_height() / 2,\n",
    "                    f\"{p.get_height():.0%}\",\n",
    "                    ha=\"center\", va=\"center\",\n",
    "                    c=\"w\", weight=\"bold\",\n",
    "                )\n",
    "                \n",
    "        # Formatage des labels sur les axes\n",
    "        bar.set_xlabel(col, weight=\"bold\")\n",
    "        bar.set_xticks(bar.get_xticks())\n",
    "        \n",
    "        xticklabels = [\"\\n\".join(label.get_text().split()) for label in ax.get_xticklabels()]\n",
    "        bar.set_xticklabels(xticklabels, rotation=0)\n",
    "        \n",
    "        bar.set_yticks([])\n",
    "        bar.set_ylabel(\"\")\n",
    "\n",
    "    ax = axes[0] if len(cols) > 1 else axes\n",
    "    ax.legend(title=target, bbox_to_anchor=(0, 1))\n",
    "    \n",
    "    plt.suptitle(f\"Taux de churn, Segment = {segment}\", size=fig_title_font_size, weight=\"bold\")\n",
    "    plt.tight_layout()\n",
    "    plt.show()"
   ]
  },
  {
   "cell_type": "code",
   "execution_count": null,
   "metadata": {},
   "outputs": [],
   "source": [
    "for segment, tmp_df in tmp_dfs.items():\n",
    "    plot_disc_vs_target(df=tmp_df, segment=segment, cols=disc_no_internet)"
   ]
  },
  {
   "cell_type": "code",
   "execution_count": null,
   "metadata": {},
   "outputs": [],
   "source": [
    "print(\"Taux de churn :\")\n",
    "print(f\"- Avec Internet : {df_internet[target].mean():.2%}\")\n",
    "print(f\"- Sans Internet : {df_no_internet[target].mean():.2%}\")"
   ]
  },
  {
   "cell_type": "markdown",
   "metadata": {},
   "source": [
    "- Le premier constat est que la taux de churn est globalement plus élevé chez les clients ayant souscrit à des services Internet (20% vs. 4%).\n",
    "- Précédemment, nous avons relevé des liens de dépendance entre certaines variables et la cible, nous pouvons dès lors apporter davantage de précisions.\n",
    "- Pour l'ensemble des clients, nous remarquons que le taux de résiliation est plus élevé lorsque le client :\n",
    "    - n'a pas de partenaire\n",
    "    - n'a pas de personnes à charge\n",
    "    - renouvelle mensuellement son contrat\n",
    "    - ne possède qu'une seule ligne de téléphone\n",
    "- Pour les cliens avec Internet, le taux de churn est plus élevé lorsque le client :\n",
    "    - a plus de 65 ans\n",
    "    - opte pour une facturation sans papier\n",
    "    - règle ses factures par chèque électronique\n",
    "- Pour ceux qui n'utilisent aucun service Internet, le churn est élevé lorsque le client :\n",
    "    - règle ses factures via un chèque envoyé par courrier (impact relativement faible)\n",
    "- Ceci nous aide à identifier ces variables comme des features importantes pour notre modèle."
   ]
  },
  {
   "cell_type": "markdown",
   "metadata": {},
   "source": [
    "#### **1.1.2. Analyse du lien entre les services Internet et la variable cible**"
   ]
  },
  {
   "cell_type": "code",
   "execution_count": null,
   "metadata": {},
   "outputs": [],
   "source": [
    "internet_services = [\"Online Security\", \"Online Backup\", \"Device Protection\", \"Tech Support\", \"Streaming TV\", \"Streaming Movies\"]\n",
    "\n",
    "# Nombre de services auxquels le client a souscrit\n",
    "df_internet[\"Services Count\"] = df_internet[internet_services].replace({\"No\": \"0\", \"Yes\": \"1\"}).astype(int).sum(axis=1)\n",
    "internet_services = [\"Services Count\"] + internet_services\n",
    "\n",
    "# Test du chi-2 pour juger de l'indépendance entre les variables\n",
    "for col in internet_services:\n",
    "    print(f\" {col} \".center(25, \"-\"))\n",
    "    pvalue = chi2_contingency(pd.crosstab(df_internet[col], df_internet[target])).pvalue\n",
    "    lien = \" *\" if pvalue < 0.05 else \"\"\n",
    "    print(f\"- Internet\".ljust(15) + f\"  {pvalue:.4f}\" + lien)\n",
    "    print()"
   ]
  },
  {
   "cell_type": "code",
   "execution_count": null,
   "metadata": {},
   "outputs": [],
   "source": [
    "# Graphiques pour une meilleure interprétation des résultats\n",
    "plot_disc_vs_target(df=df_internet, segment=\"Internet\", cols=internet_services)\n",
    "plot_disc_variables(df=df_internet, cols=[\"Services Count\"], n_rows=1, n_cols=1, figsize=(4, 3), fig_title=\"Répartition du nombre de services Internet\", fig_title_font_size=12)"
   ]
  },
  {
   "cell_type": "markdown",
   "metadata": {},
   "source": [
    "- Il semblerait qu'il existe une relation de dépendance entre les différents services Internet et le taux de churn : plus le client souscrit à des options, plus on a de chances qu'il reste.\n",
    "- Cette tendance est moins marquée pour les services liés au Streaming (TV et films). Sachant d'après le descriptif des données que l'entreprise ne facture pas de frais supplémentaires pour ce service, nous pouvons comprendre pourquoi ces services ne constituent pas un facteur différenciant dans la décion de rester ou de partir.\n",
    "- Serait-il plus pertinent de ne conserver que le nombre de services consommés (hormis les services de streaming) étant donné la tendance observée ?"
   ]
  },
  {
   "cell_type": "code",
   "execution_count": null,
   "metadata": {},
   "outputs": [],
   "source": [
    "internet_services = [\"Online Security\", \"Online Backup\", \"Device Protection\", \"Tech Support\"]\n",
    "\n",
    "# Nombre de services auxquels le client a souscrit\n",
    "df_internet[\"Services Count\"] = df_internet[internet_services].replace({\"No\": \"0\", \"Yes\": \"1\"}).astype(int).sum(axis=1)\n",
    "internet_services = [\"Services Count\"] + internet_services\n",
    "\n",
    "# Graphiques pour une meilleure interprétation des résultats\n",
    "plot_disc_vs_target(df=df_internet, segment=\"Internet\", cols=internet_services)\n",
    "plot_disc_variables(df=df_internet, cols=[\"Services Count\"], n_rows=1, n_cols=1, figsize=(4, 3), fig_title=\"Répartition du nombre de services Internet\", fig_title_font_size=12)"
   ]
  },
  {
   "cell_type": "markdown",
   "metadata": {},
   "source": [
    "- Les observations précédentes ne sont pas modifiées lorsque l'on supprime les colonnes liées au streaming, qu'il s'agisse de la relation décroissante entre le nombre de services et le taux de churn, ou alors de la répartition globale du nombre de services."
   ]
  },
  {
   "cell_type": "markdown",
   "metadata": {},
   "source": [
    "### **1.2. Variables continues**"
   ]
  },
  {
   "cell_type": "code",
   "execution_count": null,
   "metadata": {},
   "outputs": [],
   "source": [
    "print(f\"{len(cont)} variables continues : {cont}\")"
   ]
  },
  {
   "cell_type": "code",
   "execution_count": null,
   "metadata": {},
   "outputs": [],
   "source": [
    "cols = [\"Monthly Charges\", \"Total Charges\", \"Tenure Months\", \"CLTV\"]"
   ]
  },
  {
   "cell_type": "code",
   "execution_count": null,
   "metadata": {},
   "outputs": [],
   "source": [
    "\n",
    "def plot_cont_vs_target(df, cols, target_value, segment, figsize=(18, 3)):\n",
    "    _, axes = plt.subplots(1, len(cols), figsize=figsize)\n",
    "\n",
    "    color = color_r if target_value else color_g\n",
    "    for i, col in enumerate(cols):\n",
    "        axes[i].hist(df.loc[df[target] == target_value, col], bins=100, color=color, alpha=0.8, label=target_value)\n",
    "        axes[i].set_title(col)\n",
    "\n",
    "    plt.suptitle(f\"Distribution des variables continues\\nSegment = {segment}, Churn Value = {target_value}\", y=0.95, size=12, weight=\"bold\")\n",
    "    plt.tight_layout()\n",
    "    plt.show()\n",
    "\n",
    "def plot_cont_vs_cont(df, vars, segment):\n",
    "    g = sns.PairGrid(df, hue=target, vars=vars, palette=[color_g, color_r], corner=True, diag_sharey=False)\n",
    "    g.map_diag(sns.histplot, bins=100)\n",
    "    g.map_lower(sns.scatterplot, s=10, alpha=0.8)\n",
    "    g.add_legend(bbox_to_anchor=(0.92, 0.95))\n",
    "    plt.suptitle(f\"Relations entre les variables continues, Segment = {segment}\", y=1.01, size=14, weight=\"bold\")\n",
    "    plt.show()"
   ]
  },
  {
   "cell_type": "markdown",
   "metadata": {},
   "source": [
    "#### **1.2.1. Avec Internet**"
   ]
  },
  {
   "cell_type": "code",
   "execution_count": null,
   "metadata": {},
   "outputs": [],
   "source": [
    "segment = \"Avec Internet\"\n",
    "plot_cont_vs_target(df=df_internet, cols=cols, target_value=0, segment=segment)\n",
    "plot_cont_vs_target(df=df_internet, cols=cols, target_value=1, segment=segment)"
   ]
  },
  {
   "cell_type": "markdown",
   "metadata": {},
   "source": [
    "- Les montants mensuels et totaux dépensés par les clients semblent ne pas avoir d'impact réel sur le churn, même si on observe qu'un nombre important de clients qui partent ont de faibles charges totales.\n",
    "- Au bout de 70 mois d'ancienneté, il devient très difficile de perdre des clients.\n",
    "- Les clients qui résilient le font majoritairement dans les premiers mois.\n",
    "- Cela suggère que les premiers mois sont critiques : si un client reste abonné au-delà d'une certaine période, il a moins de chances de partir.\n",
    "- Les clients ayant une valeur vie > 6 000 ont une faible probabilité de résiliation."
   ]
  },
  {
   "cell_type": "code",
   "execution_count": null,
   "metadata": {},
   "outputs": [],
   "source": [
    "plot_cont_vs_cont(df=df_internet, vars=cols, segment=segment)"
   ]
  },
  {
   "cell_type": "markdown",
   "metadata": {},
   "source": [
    "- Il semblerait que les données soient divisées en 2 groupes, cela s'observe notamment avec le lien entre la valeur client et (les charges totales ou l'ancienneté), mais plus précisément avec la dernière."
   ]
  },
  {
   "cell_type": "code",
   "execution_count": null,
   "metadata": {},
   "outputs": [],
   "source": [
    "plt.figure(figsize=(24, 5))\n",
    "c1, c2 = [\"Tenure Months\", \"CLTV\"]\n",
    "\n",
    "plt.subplot(1, 2, 1)\n",
    "y1 = df_internet[[c1, c2]].groupby(c1).max(c2)\n",
    "sns.lineplot(y1, marker=\".\")\n",
    "plt.ylabel(\"max(CLTV)\")\n",
    "plt.title(\"Valeur client maximale pour chaque valeur d'ancienneté\", weight=\"bold\")\n",
    "\n",
    "plt.subplot(1, 2, 2)\n",
    "y2 = df_internet.loc[(df_internet[c2] > 3950) & (df_internet[c2] < 4050), [c1, c2]].groupby(c2).max(c1)\n",
    "sns.lineplot(y2, marker=\".\")\n",
    "plt.ylabel(\"max(Tenure Months)\")\n",
    "plt.title(\"Ancienneté maximale pour chaque valeur d'ancienneté\", weight=\"bold\")\n",
    "\n",
    "plt.show()"
   ]
  },
  {
   "cell_type": "markdown",
   "metadata": {},
   "source": [
    "- Le bond en termes :\n",
    "    - de valeur client se situe entre le 45e et le 50e mois d'ancienneté,\n",
    "    - d'ancienneté se situe autour d'une valeur client à 4000."
   ]
  },
  {
   "cell_type": "code",
   "execution_count": null,
   "metadata": {},
   "outputs": [],
   "source": [
    "display(y1.iloc[45:50])\n",
    "\n",
    "thresh1 = y1.loc[48:49].mean()[\"CLTV\"]\n",
    "print(f\"Seuil CLTV :\", thresh1)"
   ]
  },
  {
   "cell_type": "code",
   "execution_count": null,
   "metadata": {},
   "outputs": [],
   "source": [
    "display(y2.iloc[25:30])\n",
    "\n",
    "thresh2 = y2.iloc[27:29].mean()[\"Tenure Months\"]\n",
    "print(f\"Seuil Ancienneté :\", thresh2)"
   ]
  },
  {
   "cell_type": "markdown",
   "metadata": {},
   "source": [
    "##### **1.2.1.a. Avec Internet, G1**"
   ]
  },
  {
   "cell_type": "code",
   "execution_count": null,
   "metadata": {},
   "outputs": [],
   "source": [
    "segment = \"Avec Internet, G1\"\n",
    "df_internet_g1 = df_internet.query(\"(CLTV < @thresh1) & (`Tenure Months` <= @thresh2)\").copy()\n",
    "plot_cont_vs_cont(df=df_internet_g1, vars=cols, segment=segment)"
   ]
  },
  {
   "cell_type": "markdown",
   "metadata": {},
   "source": [
    "- Ces graphiques nous donnent des raisons de penser qu'une segmentation efficace des clients en fonction du montant de leur facture mensuelle pourrait revéler des tendances intéressantes."
   ]
  },
  {
   "cell_type": "code",
   "execution_count": null,
   "metadata": {},
   "outputs": [],
   "source": [
    "# Les différences importantes entre les valeurs uniques et ordonnées des charges mensuelles constitueraient différents groupes d'intérêt\n",
    "y_data = df_internet_g1[\"Monthly Charges\"].drop_duplicates().sort_values().reset_index(drop=True)\n",
    "y = y_data.diff()\n",
    "x = np.arange(len(y))\n",
    "\n",
    "ax = sns.lineplot(x=x, y=y, marker=\".\", lw=0.5)\n",
    "plt.setp(ax.lines, markersize=5)\n",
    "plt.title(f\"Différences entre les valeurs uniques et ordonnées des charges mensuelles\", weight=\"bold\")\n",
    "plt.ylabel(f\"Delta Monthly Charges\")\n",
    "plt.show()"
   ]
  },
  {
   "cell_type": "markdown",
   "metadata": {},
   "source": [
    "- Un coup d'oeil rapide nous permet de détecter une vingtaine de groupes, nous allons utiliser un algorithme de clustering pour les distinguer."
   ]
  },
  {
   "cell_type": "code",
   "execution_count": null,
   "metadata": {},
   "outputs": [],
   "source": [
    "from sklearn.cluster import KMeans\n",
    "\n",
    "kmeans_internet = KMeans(n_clusters=20, random_state=42)\n",
    "df_internet_g1[\"Monthly Charges Cluster\"] = kmeans_internet.fit_predict(df_internet_g1[[\"Monthly Charges\"]])"
   ]
  },
  {
   "cell_type": "code",
   "execution_count": null,
   "metadata": {},
   "outputs": [],
   "source": [
    "# Les clusters sont rangés selon l'ordre croissant de leurs médianes pour garantir une progression logique\n",
    "cluster_medians = df_internet_g1.groupby(\"Monthly Charges Cluster\")[\"Monthly Charges\"].median()\n",
    "sorted_clusters = cluster_medians.sort_values().index \n",
    "clusters_mapping_no_internet = {old: new for new, old in enumerate(sorted_clusters)}\n",
    "df_internet_g1[\"Monthly Charges Cluster\"] = df_internet_g1[\"Monthly Charges Cluster\"].map(clusters_mapping_no_internet)\n",
    "\n",
    "# sns.boxplot(df_internet_g1, x=\"Monthly Charges Cluster\", y=\"Monthly Charges\")\n",
    "# plt.title(\"Répartition des charges mensuelles par cluster\", weight=\"bold\")\n",
    "# plt.show()"
   ]
  },
  {
   "cell_type": "markdown",
   "metadata": {},
   "source": [
    "- La visualisation des relations entre les variables continues pour chacun des clusters nous a permis d'observer certains phénomènes intéressants."
   ]
  },
  {
   "cell_type": "markdown",
   "metadata": {},
   "source": [
    "- 1. Il existe au sein de chaque groupe une très forte correlation entre les variables `Tenure Months` et `Total Charges` et pourtant d'un point de vue global, le lien n'est pas aussi prononcé."
   ]
  },
  {
   "cell_type": "code",
   "execution_count": null,
   "metadata": {},
   "outputs": [],
   "source": [
    "from scipy.stats import pearsonr\n",
    "c1 = \"Total Charges\"\n",
    "c2 = \"Tenure Months\"\n",
    "\n",
    "corr_all = pearsonr(df_internet_g1[c1], df_internet_g1[c2]).statistic\n",
    "print(f\"Corrélation totale : {corr_all:.4f}\")\n",
    "\n",
    "corr_clusters = []\n",
    "for i in range(20):\n",
    "    tmp_df = df_internet_g1.query(\"`Monthly Charges Cluster` == @i\")\n",
    "    corr_clusters.append(pearsonr(tmp_df[c1], tmp_df[c2]).statistic)\n",
    "    \n",
    "print(f\"Moyenne des corrélations intra-groupes : {np.mean(corr_clusters):.4f}\")\n",
    "\n",
    "# Quelques exemples visuels\n",
    "_, axes = plt.subplots(1, 6, sharey=True, figsize=(18, 3))\n",
    "\n",
    "sns.scatterplot(data=df_internet_g1, x=c1, y=c2, s=10, ax=axes[0])\n",
    "axes[0].text(axes[0].get_xlim()[1], 2, f\"Corr = {corr_all:.4f}\", ha=\"right\", weight=\"bold\")\n",
    "axes[0].set_title(f\"Cluster = all\")\n",
    "\n",
    "for _, i in enumerate([0, 5, 10, 15, 19]):\n",
    "    ax = axes[_ + 1]\n",
    "    \n",
    "    tmp_df = df_internet_g1.query(\"`Monthly Charges Cluster` == @i\")\n",
    "\n",
    "    sns.scatterplot(data=tmp_df, x=c1, y=c2, s=10, ax=ax)\n",
    "    ax.text(ax.get_xlim()[1], 2, f\"Corr = {corr_clusters[i]:.4f}\", ha=\"right\", weight=\"bold\")\n",
    "    ax.set_title(f\"Cluster = {i}\")\n",
    "    \n",
    "plt.suptitle(f\"Relations entre les variables '{c1}' et '{c2}' pour différents clusters\\nSegment = {segment}, G1\", y=0.95, weight=\"bold\")\n",
    "plt.tight_layout()\n",
    "plt.show()"
   ]
  },
  {
   "cell_type": "markdown",
   "metadata": {},
   "source": [
    "- 2. Dépendant les clusters, il est plus ou moins possible d'identifier un ensemble de valeurs de charges totales pour lesquelles on a de moins en moins de résiliations."
   ]
  },
  {
   "cell_type": "code",
   "execution_count": null,
   "metadata": {},
   "outputs": [],
   "source": [
    "c1 = \"CLTV\"\n",
    "c2 = \"Total Charges\"\n",
    "\n",
    "# Quelques exemples visuels\n",
    "_, axes = plt.subplots(1, 6, sharey=True, figsize=(18, 4))\n",
    "\n",
    "sns.scatterplot(data=df_internet_g1, x=c1, y=c2, s=10, hue=target, palette=[color_g, color_r], ax=axes[0])\n",
    "axes[0].set_title(f\"Cluster = all\")\n",
    "axes[0].legend(title=target, bbox_to_anchor=(-0.1, -0.1))\n",
    "\n",
    "for _, i in enumerate([0, 5, 10, 15, 19]):\n",
    "    ax = axes[_ + 1]\n",
    "\n",
    "    tmp_df = df_internet_g1.query(\"`Monthly Charges Cluster` == @i\")\n",
    "\n",
    "    sns.scatterplot(data=tmp_df, x=c1, y=c2, s=10, hue=target, palette=[color_g, color_r], ax=ax)\n",
    "    ax.set_title(f\"Cluster = {i}\")\n",
    "    ax.legend(\"\")\n",
    "    \n",
    "plt.suptitle(f\"Relations entre les variables '{c1}' et '{c2}' pour différents clusters\\nSegment = {segment}\", y=0.95, weight=\"bold\")\n",
    "plt.tight_layout()\n",
    "plt.show()"
   ]
  },
  {
   "cell_type": "markdown",
   "metadata": {},
   "source": [
    "- Pour la modélisation, nous allons discrétiser la variable `Monthly Charges` selon les clusters calculés précédemment, et supprimer `Total Charges` pour éviter la redondance dans les données. Nous conserverons donc `Tenure Months` que nous pourrons par ailleurs séparer suivant les 2 groupes observés (ancienneté <= et > 48 mois) pour l'expérimentation.\n",
    "- Vérifions la pertinence de ces actions sur le 2e sous-segment des clients ayant recours aux services Internet."
   ]
  },
  {
   "cell_type": "markdown",
   "metadata": {},
   "source": [
    "##### **1.2.1.b. Avec Internet, G2**"
   ]
  },
  {
   "cell_type": "code",
   "execution_count": null,
   "metadata": {},
   "outputs": [],
   "source": [
    "segment = \"Avec Internet, G2\"\n",
    "df_internet_g2 = df_internet.drop(df_internet_g1.index).copy()\n",
    "# plot_cont_vs_cont(df=df_internet_g2, vars=cols, segment=segment)"
   ]
  },
  {
   "cell_type": "code",
   "execution_count": null,
   "metadata": {},
   "outputs": [],
   "source": [
    "df_internet_g2[\"Monthly Charges Cluster\"] = kmeans_internet.predict(df_internet_g2[[\"Monthly Charges\"]])\n",
    "df_internet_g2[\"Monthly Charges Cluster\"] = df_internet_g2[\"Monthly Charges Cluster\"].map(clusters_mapping_no_internet)"
   ]
  },
  {
   "cell_type": "code",
   "execution_count": null,
   "metadata": {},
   "outputs": [],
   "source": [
    "c1 = \"Total Charges\"\n",
    "c2 = \"Tenure Months\"\n",
    "\n",
    "corr_all = pearsonr(df_internet_g2[c1], df_internet_g2[c2]).statistic\n",
    "print(f\"Corrélation totale : {corr_all:.4f}\")\n",
    "\n",
    "corr_clusters = []\n",
    "for i in range(20):\n",
    "    tmp_df = df_internet_g2.query(\"`Monthly Charges Cluster` == @i\")\n",
    "    \n",
    "    if len(tmp_df) > 2:\n",
    "        corr_clusters.append(pearsonr(tmp_df[c1], tmp_df[c2]).statistic)\n",
    "    \n",
    "print(f\"Moyenne des corrélations intra-groupes : {np.mean(corr_clusters):.4f}\")"
   ]
  },
  {
   "cell_type": "markdown",
   "metadata": {},
   "source": [
    "- En appliquant le même processus de discrétisation de la variable `Monthly Charges`, on observe la même augmentation de la corrélation intra-groupes entre l'ancienneté et les charges totales."
   ]
  },
  {
   "cell_type": "markdown",
   "metadata": {},
   "source": [
    "#### **1.2.2. Sans Internet**"
   ]
  },
  {
   "cell_type": "code",
   "execution_count": null,
   "metadata": {},
   "outputs": [],
   "source": [
    "segment = \"Sans Internet\"\n",
    "plot_cont_vs_target(df=df_no_internet, cols=cols, target_value=0, segment=segment)\n",
    "plot_cont_vs_target(df=df_no_internet, cols=cols, target_value=1, segment=segment)"
   ]
  },
  {
   "cell_type": "markdown",
   "metadata": {},
   "source": [
    "- En guise de premier constat, on notera une séparation nette en 2 classes suivant le montant des charges mensuelles.\n",
    "- Par ailleurs, les clients qui paient plus de 22$ sont moins susceptibles de partir."
   ]
  },
  {
   "cell_type": "code",
   "execution_count": null,
   "metadata": {},
   "outputs": [],
   "source": [
    "plot_cont_vs_cont(df=df_no_internet, vars=cols, segment=segment)"
   ]
  },
  {
   "cell_type": "markdown",
   "metadata": {},
   "source": [
    "- Les différents groupes peuvent nettement être séparés suivant le montant de la facture mensuelle.\n",
    "- On peut également remarquer à nouveau la corrélation évidente entre l'ancienneté et le montant des charges totales (potentiellement renforcée par une segmentation des charges mensuelles comme vu précédemment).\n",
    "- Enfin, les 2 groupes d'ancienneté distingués précédemment (< et >= 49 mois) sont aussi visibles ici."
   ]
  },
  {
   "cell_type": "code",
   "execution_count": null,
   "metadata": {},
   "outputs": [],
   "source": [
    "kmeans_no_internet = KMeans(n_clusters=2, random_state=42)\n",
    "df_no_internet[\"Monthly Charges Cluster\"] = kmeans_no_internet.fit_predict(df_no_internet[[\"Monthly Charges\"]])"
   ]
  },
  {
   "cell_type": "code",
   "execution_count": null,
   "metadata": {},
   "outputs": [],
   "source": [
    "# Les clusters sont rangés selon l'ordre croissant de leurs médianes pour garantir une progression logique\n",
    "cluster_medians = df_no_internet.groupby(\"Monthly Charges Cluster\")[\"Monthly Charges\"].median()\n",
    "sorted_clusters = cluster_medians.sort_values().index\n",
    "clusters_mapping_internet = {old: new for new, old in enumerate(sorted_clusters)}\n",
    "df_no_internet[\"Monthly Charges Cluster\"] = df_no_internet[\"Monthly Charges Cluster\"].map(clusters_mapping_internet)"
   ]
  },
  {
   "cell_type": "markdown",
   "metadata": {},
   "source": [
    "#### **1.2.3. Coordonnées géographiques**"
   ]
  },
  {
   "cell_type": "code",
   "execution_count": null,
   "metadata": {},
   "outputs": [],
   "source": [
    "sns.scatterplot(df, x=\"Long\", y=\"Lat\", hue=target, s=10, alpha=0.5, palette=[color_g, color_r])\n",
    "plt.show()"
   ]
  },
  {
   "cell_type": "markdown",
   "metadata": {},
   "source": [
    "- Aucune observation particulière ne se dégage de cette figure."
   ]
  },
  {
   "cell_type": "markdown",
   "metadata": {},
   "source": [
    "#### **1.2.4. Autres analyses**"
   ]
  },
  {
   "cell_type": "code",
   "execution_count": null,
   "metadata": {},
   "outputs": [],
   "source": [
    "def plot_cont_vs_disc(df, cols, disc, segment, figsize=(18, 3)):\n",
    "    for val in df[disc].sort_values().unique():\n",
    "        _, axes = plt.subplots(1, len(cols), figsize=figsize)\n",
    "\n",
    "        for i, col in enumerate(cols):\n",
    "            sns.histplot(df.loc[df[disc] == val, [col, target]], x=col, hue=target, hue_order=(1, 0), bins=100, stat=\"density\", palette=[color_r, color_g], ax=axes[i])\n",
    "            \n",
    "            axes[i].set_ylabel(\"\")\n",
    "            axes[i].set_title(col)\n",
    "            axes[i].legend(\"\")\n",
    "\n",
    "        plt.suptitle(f\"Distribution des variables continues suivant la variable {col}\\nSegment = {segment}, {disc} = {val}\", y=0.95, size=12, weight=\"bold\")\n",
    "        plt.tight_layout()\n",
    "        plt.show()"
   ]
  },
  {
   "cell_type": "markdown",
   "metadata": {},
   "source": [
    "- Nous remarquerons ci-dessous que les moyens de paiement automatiques (carte de crédit et virement bancaire) présentent les mêmes caractéristiques chez les clients avec contrats Internet."
   ]
  },
  {
   "cell_type": "code",
   "execution_count": null,
   "metadata": {},
   "outputs": [],
   "source": [
    "# plot_cont_vs_disc(df=df_internet, cols=cols, disc=\"Payment Method\", segment=\"Avec Internet\", figsize=(18, 3))"
   ]
  },
  {
   "cell_type": "code",
   "execution_count": null,
   "metadata": {},
   "outputs": [],
   "source": [
    "# Test d'égalité des moyennes dans les 2 groupes\n",
    "from scipy.stats import ttest_ind\n",
    "\n",
    "a = df_internet.loc[df_internet[\"Payment Method\"] == \"Credit card (automatic)\", target]\n",
    "b = df_internet.loc[df_internet[\"Payment Method\"] == \"Bank transfer (automatic)\", target]\n",
    "\n",
    "ttest_ind(a, b).pvalue"
   ]
  },
  {
   "cell_type": "markdown",
   "metadata": {},
   "source": [
    "## **2. Préparation des données**"
   ]
  },
  {
   "cell_type": "code",
   "execution_count": 1,
   "metadata": {},
   "outputs": [
    {
     "name": "stderr",
     "output_type": "stream",
     "text": [
      "c:\\Users\\tchak\\anaconda3\\envs\\dev\\Lib\\site-packages\\sklearn\\cluster\\_kmeans.py:1419: UserWarning: KMeans is known to have a memory leak on Windows with MKL, when there are less chunks than available threads. You can avoid it by setting the environment variable OMP_NUM_THREADS=6.\n",
      "  warnings.warn(\n"
     ]
    }
   ],
   "source": [
    "import pandas as pd\n",
    "\n",
    "# Chargement\n",
    "df = pd.read_csv(\"DatasetChurn.csv\")\n",
    "\n",
    "# Suppression des valeurs manquantes\n",
    "df.dropna(inplace=True)\n",
    "\n",
    "# Suppression de `Phone Service`\n",
    "df.drop(columns=\"Phone Service\", inplace=True)\n",
    "\n",
    "# Séparation avec/sans Internet\n",
    "df_internet = df.query(\"`Internet Service` != 'No'\").copy()\n",
    "df_no_internet = df.drop(df_internet.index).copy()\n",
    "\n",
    "\n",
    "\n",
    "# --- Avec Internet\n",
    "\n",
    "# Suppression de Gender\n",
    "df_internet.drop(columns=[\"Gender\"], inplace=True)\n",
    "\n",
    "# Supression des services de streaming\n",
    "df_internet.drop(columns=[\"Streaming TV\", \"Streaming Movies\"], inplace=True)\n",
    "\n",
    "# Ajout de la colonne `Services Count` pour compter le nombre de services auxquels le client a souscrit\n",
    "internet_services = [\"Online Security\", \"Online Backup\", \"Device Protection\", \"Tech Support\"]\n",
    "df_internet[\"Services Count\"] = df_internet[internet_services].replace({\"No\": \"0\", \"Yes\": \"1\"}).astype(int).sum(axis=1)\n",
    "\n",
    "# Suppression des colonnes relatives aux différents services Internet\n",
    "df_internet.drop(columns=internet_services, inplace=True)\n",
    "\n",
    "# Clusters de `Monthly Charges`\n",
    "from sklearn.cluster import KMeans\n",
    "\n",
    "kmeans_internet = KMeans(n_clusters=20, random_state=42)\n",
    "df_internet[\"Monthly Charges Cluster\"] = kmeans_internet.fit_predict(df_internet[[\"Monthly Charges\"]])\n",
    "\n",
    "# Les clusters sont rangés selon l'ordre croissant de leurs médianes pour garantir une progression logique\n",
    "cluster_medians = df_internet.groupby(\"Monthly Charges Cluster\")[\"Monthly Charges\"].median()\n",
    "sorted_clusters = cluster_medians.sort_values().index \n",
    "clusters_mapping_internet = {old: new for new, old in enumerate(sorted_clusters)}\n",
    "df_internet[\"Monthly Charges Cluster\"] = df_internet[\"Monthly Charges Cluster\"].map(clusters_mapping_internet)\n",
    "\n",
    "# Suppression de `Monthly Charges` ???\n",
    "# df_internet.drop(columns=\"Monthly Charges\", inplace=True)\n",
    "\n",
    "# Suppression de `Total Charges`\n",
    "df_internet.drop(columns=\"Total Charges\", inplace=True)\n",
    "\n",
    "# Dicrétisation de `Tenure Months`\n",
    "df_internet[\"Tenure Months Discrete\"] = (df_internet[\"Tenure Months\"] <= 48).astype(int)\n",
    "\n",
    "# Suppression de `Tenure Months` ???\n",
    "# df_internet.drop(columns=\"Tenure Months\", inplace=True)\n",
    "\n",
    "# Groupement des moyens de paiement automatiques\n",
    "mask = (df_internet[\"Payment Method\"].isin([\"Bank transfer (automatic)\", \"Credit card (automatic)\"]))\n",
    "df_internet.loc[mask, \"Payment Method\"] = \"Automatic\"\n",
    "\n",
    "\n",
    "\n",
    "# --- Sans Internet\n",
    "\n",
    "# Suppression des services Internet\n",
    "df_no_internet.drop(columns=[\"Internet Service\", \"Online Security\", \"Online Backup\", \"Device Protection\", \"Tech Support\", \"Streaming TV\", \"Streaming Movies\"], inplace=True)\n",
    "\n",
    "# Suppression de Gender\n",
    "df_no_internet.drop(columns=[\"Gender\"], inplace=True)\n",
    "\n",
    "# Suppression de `Senior Citzen` et `Paperless Billing`\n",
    "df_no_internet.drop(columns=[\"Senior Citizen\", \"Paperless Billing\"], inplace=True)\n",
    "\n",
    "# Clusters de `Monthly Charges`\n",
    "from sklearn.cluster import KMeans\n",
    "\n",
    "kmeans_no_internet = KMeans(n_clusters=2, random_state=42)\n",
    "df_no_internet[\"Monthly Charges Cluster\"] = kmeans_no_internet.fit_predict(df_no_internet[[\"Monthly Charges\"]])\n",
    "\n",
    "# Les clusters sont rangés selon l'ordre croissant de leurs médianes pour garantir une progression logique\n",
    "cluster_medians = df_no_internet.groupby(\"Monthly Charges Cluster\")[\"Monthly Charges\"].median()\n",
    "sorted_clusters = cluster_medians.sort_values().index \n",
    "clusters_mapping_no_internet = {old: new for new, old in enumerate(sorted_clusters)}\n",
    "df_no_internet[\"Monthly Charges Cluster\"] = df_no_internet[\"Monthly Charges Cluster\"].map(clusters_mapping_no_internet)\n",
    "\n",
    "# Suppression de `Monthly Charges` ???\n",
    "# df_no_internet.drop(columns=\"Monthly Charges\", inplace=True)\n",
    "\n",
    "# Suppression de `Total Charges`\n",
    "df_no_internet.drop(columns=\"Total Charges\", inplace=True)\n",
    "\n",
    "# Dicrétisation de `Tenure Months`\n",
    "df_no_internet[\"Tenure Months Discrete\"] = (df_no_internet[\"Tenure Months\"] <= 48).astype(int)\n",
    "\n",
    "# Suppression de `Tenure Months` ???\n",
    "# df_no_internet.drop(columns=\"Tenure Months\", inplace=True)"
   ]
  },
  {
   "cell_type": "markdown",
   "metadata": {},
   "source": [
    "## **3. Model**"
   ]
  },
  {
   "cell_type": "code",
   "execution_count": 2,
   "metadata": {},
   "outputs": [],
   "source": [
    "from sklearn.model_selection import train_test_split, cross_val_score\n",
    "from sklearn.metrics import recall_score, classification_report\n",
    "from xgboost import XGBClassifier\n",
    "\n",
    "from sklearn.preprocessing import MinMaxScaler, OneHotEncoder\n",
    "from sklearn.compose import ColumnTransformer"
   ]
  },
  {
   "cell_type": "markdown",
   "metadata": {},
   "source": [
    "### **3.1. Avec Internet**"
   ]
  },
  {
   "cell_type": "code",
   "execution_count": 3,
   "metadata": {},
   "outputs": [
    {
     "ename": "AttributeError",
     "evalue": "'super' object has no attribute '__sklearn_tags__'",
     "output_type": "error",
     "traceback": [
      "\u001b[31m---------------------------------------------------------------------------\u001b[39m",
      "\u001b[31mAttributeError\u001b[39m                            Traceback (most recent call last)",
      "\u001b[36mCell\u001b[39m\u001b[36m \u001b[39m\u001b[32mIn[3]\u001b[39m\u001b[32m, line 23\u001b[39m\n\u001b[32m     20\u001b[39m X_test_preprocessed = preprocessor.transform(X_test)\n\u001b[32m     22\u001b[39m clf = XGBClassifier(random_state=\u001b[32m42\u001b[39m)\n\u001b[32m---> \u001b[39m\u001b[32m23\u001b[39m \u001b[43mcross_val_score\u001b[49m\u001b[43m(\u001b[49m\u001b[43mclf\u001b[49m\u001b[43m,\u001b[49m\u001b[43m \u001b[49m\u001b[43mX_train_preprocessed\u001b[49m\u001b[43m,\u001b[49m\u001b[43m \u001b[49m\u001b[43my_train\u001b[49m\u001b[43m,\u001b[49m\u001b[43m \u001b[49m\u001b[43mscoring\u001b[49m\u001b[43m=\u001b[49m\u001b[33;43m\"\u001b[39;49m\u001b[33;43mrecall\u001b[39;49m\u001b[33;43m\"\u001b[39;49m\u001b[43m,\u001b[49m\u001b[43m \u001b[49m\u001b[43mcv\u001b[49m\u001b[43m=\u001b[49m\u001b[32;43m5\u001b[39;49m\u001b[43m)\u001b[49m.mean()\n",
      "\u001b[36mFile \u001b[39m\u001b[32mc:\\Users\\tchak\\anaconda3\\envs\\dev\\Lib\\site-packages\\sklearn\\utils\\_param_validation.py:216\u001b[39m, in \u001b[36mvalidate_params.<locals>.decorator.<locals>.wrapper\u001b[39m\u001b[34m(*args, **kwargs)\u001b[39m\n\u001b[32m    210\u001b[39m \u001b[38;5;28;01mtry\u001b[39;00m:\n\u001b[32m    211\u001b[39m     \u001b[38;5;28;01mwith\u001b[39;00m config_context(\n\u001b[32m    212\u001b[39m         skip_parameter_validation=(\n\u001b[32m    213\u001b[39m             prefer_skip_nested_validation \u001b[38;5;129;01mor\u001b[39;00m global_skip_validation\n\u001b[32m    214\u001b[39m         )\n\u001b[32m    215\u001b[39m     ):\n\u001b[32m--> \u001b[39m\u001b[32m216\u001b[39m         \u001b[38;5;28;01mreturn\u001b[39;00m \u001b[43mfunc\u001b[49m\u001b[43m(\u001b[49m\u001b[43m*\u001b[49m\u001b[43margs\u001b[49m\u001b[43m,\u001b[49m\u001b[43m \u001b[49m\u001b[43m*\u001b[49m\u001b[43m*\u001b[49m\u001b[43mkwargs\u001b[49m\u001b[43m)\u001b[49m\n\u001b[32m    217\u001b[39m \u001b[38;5;28;01mexcept\u001b[39;00m InvalidParameterError \u001b[38;5;28;01mas\u001b[39;00m e:\n\u001b[32m    218\u001b[39m     \u001b[38;5;66;03m# When the function is just a wrapper around an estimator, we allow\u001b[39;00m\n\u001b[32m    219\u001b[39m     \u001b[38;5;66;03m# the function to delegate validation to the estimator, but we replace\u001b[39;00m\n\u001b[32m    220\u001b[39m     \u001b[38;5;66;03m# the name of the estimator by the name of the function in the error\u001b[39;00m\n\u001b[32m    221\u001b[39m     \u001b[38;5;66;03m# message to avoid confusion.\u001b[39;00m\n\u001b[32m    222\u001b[39m     msg = re.sub(\n\u001b[32m    223\u001b[39m         \u001b[33mr\u001b[39m\u001b[33m\"\u001b[39m\u001b[33mparameter of \u001b[39m\u001b[33m\\\u001b[39m\u001b[33mw+ must be\u001b[39m\u001b[33m\"\u001b[39m,\n\u001b[32m    224\u001b[39m         \u001b[33mf\u001b[39m\u001b[33m\"\u001b[39m\u001b[33mparameter of \u001b[39m\u001b[38;5;132;01m{\u001b[39;00mfunc.\u001b[34m__qualname__\u001b[39m\u001b[38;5;132;01m}\u001b[39;00m\u001b[33m must be\u001b[39m\u001b[33m\"\u001b[39m,\n\u001b[32m    225\u001b[39m         \u001b[38;5;28mstr\u001b[39m(e),\n\u001b[32m    226\u001b[39m     )\n",
      "\u001b[36mFile \u001b[39m\u001b[32mc:\\Users\\tchak\\anaconda3\\envs\\dev\\Lib\\site-packages\\sklearn\\model_selection\\_validation.py:684\u001b[39m, in \u001b[36mcross_val_score\u001b[39m\u001b[34m(estimator, X, y, groups, scoring, cv, n_jobs, verbose, params, pre_dispatch, error_score)\u001b[39m\n\u001b[32m    681\u001b[39m \u001b[38;5;66;03m# To ensure multimetric format is not supported\u001b[39;00m\n\u001b[32m    682\u001b[39m scorer = check_scoring(estimator, scoring=scoring)\n\u001b[32m--> \u001b[39m\u001b[32m684\u001b[39m cv_results = \u001b[43mcross_validate\u001b[49m\u001b[43m(\u001b[49m\n\u001b[32m    685\u001b[39m \u001b[43m    \u001b[49m\u001b[43mestimator\u001b[49m\u001b[43m=\u001b[49m\u001b[43mestimator\u001b[49m\u001b[43m,\u001b[49m\n\u001b[32m    686\u001b[39m \u001b[43m    \u001b[49m\u001b[43mX\u001b[49m\u001b[43m=\u001b[49m\u001b[43mX\u001b[49m\u001b[43m,\u001b[49m\n\u001b[32m    687\u001b[39m \u001b[43m    \u001b[49m\u001b[43my\u001b[49m\u001b[43m=\u001b[49m\u001b[43my\u001b[49m\u001b[43m,\u001b[49m\n\u001b[32m    688\u001b[39m \u001b[43m    \u001b[49m\u001b[43mgroups\u001b[49m\u001b[43m=\u001b[49m\u001b[43mgroups\u001b[49m\u001b[43m,\u001b[49m\n\u001b[32m    689\u001b[39m \u001b[43m    \u001b[49m\u001b[43mscoring\u001b[49m\u001b[43m=\u001b[49m\u001b[43m{\u001b[49m\u001b[33;43m\"\u001b[39;49m\u001b[33;43mscore\u001b[39;49m\u001b[33;43m\"\u001b[39;49m\u001b[43m:\u001b[49m\u001b[43m \u001b[49m\u001b[43mscorer\u001b[49m\u001b[43m}\u001b[49m\u001b[43m,\u001b[49m\n\u001b[32m    690\u001b[39m \u001b[43m    \u001b[49m\u001b[43mcv\u001b[49m\u001b[43m=\u001b[49m\u001b[43mcv\u001b[49m\u001b[43m,\u001b[49m\n\u001b[32m    691\u001b[39m \u001b[43m    \u001b[49m\u001b[43mn_jobs\u001b[49m\u001b[43m=\u001b[49m\u001b[43mn_jobs\u001b[49m\u001b[43m,\u001b[49m\n\u001b[32m    692\u001b[39m \u001b[43m    \u001b[49m\u001b[43mverbose\u001b[49m\u001b[43m=\u001b[49m\u001b[43mverbose\u001b[49m\u001b[43m,\u001b[49m\n\u001b[32m    693\u001b[39m \u001b[43m    \u001b[49m\u001b[43mparams\u001b[49m\u001b[43m=\u001b[49m\u001b[43mparams\u001b[49m\u001b[43m,\u001b[49m\n\u001b[32m    694\u001b[39m \u001b[43m    \u001b[49m\u001b[43mpre_dispatch\u001b[49m\u001b[43m=\u001b[49m\u001b[43mpre_dispatch\u001b[49m\u001b[43m,\u001b[49m\n\u001b[32m    695\u001b[39m \u001b[43m    \u001b[49m\u001b[43merror_score\u001b[49m\u001b[43m=\u001b[49m\u001b[43merror_score\u001b[49m\u001b[43m,\u001b[49m\n\u001b[32m    696\u001b[39m \u001b[43m\u001b[49m\u001b[43m)\u001b[49m\n\u001b[32m    697\u001b[39m \u001b[38;5;28;01mreturn\u001b[39;00m cv_results[\u001b[33m\"\u001b[39m\u001b[33mtest_score\u001b[39m\u001b[33m\"\u001b[39m]\n",
      "\u001b[36mFile \u001b[39m\u001b[32mc:\\Users\\tchak\\anaconda3\\envs\\dev\\Lib\\site-packages\\sklearn\\utils\\_param_validation.py:216\u001b[39m, in \u001b[36mvalidate_params.<locals>.decorator.<locals>.wrapper\u001b[39m\u001b[34m(*args, **kwargs)\u001b[39m\n\u001b[32m    210\u001b[39m \u001b[38;5;28;01mtry\u001b[39;00m:\n\u001b[32m    211\u001b[39m     \u001b[38;5;28;01mwith\u001b[39;00m config_context(\n\u001b[32m    212\u001b[39m         skip_parameter_validation=(\n\u001b[32m    213\u001b[39m             prefer_skip_nested_validation \u001b[38;5;129;01mor\u001b[39;00m global_skip_validation\n\u001b[32m    214\u001b[39m         )\n\u001b[32m    215\u001b[39m     ):\n\u001b[32m--> \u001b[39m\u001b[32m216\u001b[39m         \u001b[38;5;28;01mreturn\u001b[39;00m \u001b[43mfunc\u001b[49m\u001b[43m(\u001b[49m\u001b[43m*\u001b[49m\u001b[43margs\u001b[49m\u001b[43m,\u001b[49m\u001b[43m \u001b[49m\u001b[43m*\u001b[49m\u001b[43m*\u001b[49m\u001b[43mkwargs\u001b[49m\u001b[43m)\u001b[49m\n\u001b[32m    217\u001b[39m \u001b[38;5;28;01mexcept\u001b[39;00m InvalidParameterError \u001b[38;5;28;01mas\u001b[39;00m e:\n\u001b[32m    218\u001b[39m     \u001b[38;5;66;03m# When the function is just a wrapper around an estimator, we allow\u001b[39;00m\n\u001b[32m    219\u001b[39m     \u001b[38;5;66;03m# the function to delegate validation to the estimator, but we replace\u001b[39;00m\n\u001b[32m    220\u001b[39m     \u001b[38;5;66;03m# the name of the estimator by the name of the function in the error\u001b[39;00m\n\u001b[32m    221\u001b[39m     \u001b[38;5;66;03m# message to avoid confusion.\u001b[39;00m\n\u001b[32m    222\u001b[39m     msg = re.sub(\n\u001b[32m    223\u001b[39m         \u001b[33mr\u001b[39m\u001b[33m\"\u001b[39m\u001b[33mparameter of \u001b[39m\u001b[33m\\\u001b[39m\u001b[33mw+ must be\u001b[39m\u001b[33m\"\u001b[39m,\n\u001b[32m    224\u001b[39m         \u001b[33mf\u001b[39m\u001b[33m\"\u001b[39m\u001b[33mparameter of \u001b[39m\u001b[38;5;132;01m{\u001b[39;00mfunc.\u001b[34m__qualname__\u001b[39m\u001b[38;5;132;01m}\u001b[39;00m\u001b[33m must be\u001b[39m\u001b[33m\"\u001b[39m,\n\u001b[32m    225\u001b[39m         \u001b[38;5;28mstr\u001b[39m(e),\n\u001b[32m    226\u001b[39m     )\n",
      "\u001b[36mFile \u001b[39m\u001b[32mc:\\Users\\tchak\\anaconda3\\envs\\dev\\Lib\\site-packages\\sklearn\\model_selection\\_validation.py:347\u001b[39m, in \u001b[36mcross_validate\u001b[39m\u001b[34m(estimator, X, y, groups, scoring, cv, n_jobs, verbose, params, pre_dispatch, return_train_score, return_estimator, return_indices, error_score)\u001b[39m\n\u001b[32m    345\u001b[39m X, y = indexable(X, y)\n\u001b[32m    346\u001b[39m params = {} \u001b[38;5;28;01mif\u001b[39;00m params \u001b[38;5;129;01mis\u001b[39;00m \u001b[38;5;28;01mNone\u001b[39;00m \u001b[38;5;28;01melse\u001b[39;00m params\n\u001b[32m--> \u001b[39m\u001b[32m347\u001b[39m cv = check_cv(cv, y, classifier=\u001b[43mis_classifier\u001b[49m\u001b[43m(\u001b[49m\u001b[43mestimator\u001b[49m\u001b[43m)\u001b[49m)\n\u001b[32m    349\u001b[39m scorers = check_scoring(\n\u001b[32m    350\u001b[39m     estimator, scoring=scoring, raise_exc=(error_score == \u001b[33m\"\u001b[39m\u001b[33mraise\u001b[39m\u001b[33m\"\u001b[39m)\n\u001b[32m    351\u001b[39m )\n\u001b[32m    353\u001b[39m \u001b[38;5;28;01mif\u001b[39;00m _routing_enabled():\n\u001b[32m    354\u001b[39m     \u001b[38;5;66;03m# For estimators, a MetadataRouter is created in get_metadata_routing\u001b[39;00m\n\u001b[32m    355\u001b[39m     \u001b[38;5;66;03m# methods. For these router methods, we create the router to use\u001b[39;00m\n\u001b[32m    356\u001b[39m     \u001b[38;5;66;03m# `process_routing` on it.\u001b[39;00m\n",
      "\u001b[36mFile \u001b[39m\u001b[32mc:\\Users\\tchak\\anaconda3\\envs\\dev\\Lib\\site-packages\\sklearn\\base.py:1237\u001b[39m, in \u001b[36mis_classifier\u001b[39m\u001b[34m(estimator)\u001b[39m\n\u001b[32m   1230\u001b[39m     warnings.warn(\n\u001b[32m   1231\u001b[39m         \u001b[33mf\u001b[39m\u001b[33m\"\u001b[39m\u001b[33mpassing a class to \u001b[39m\u001b[38;5;132;01m{\u001b[39;00m\u001b[38;5;28mprint\u001b[39m(inspect.stack()[\u001b[32m0\u001b[39m][\u001b[32m3\u001b[39m])\u001b[38;5;132;01m}\u001b[39;00m\u001b[33m is deprecated and \u001b[39m\u001b[33m\"\u001b[39m\n\u001b[32m   1232\u001b[39m         \u001b[33m\"\u001b[39m\u001b[33mwill be removed in 1.8. Use an instance of the class instead.\u001b[39m\u001b[33m\"\u001b[39m,\n\u001b[32m   1233\u001b[39m         \u001b[38;5;167;01mFutureWarning\u001b[39;00m,\n\u001b[32m   1234\u001b[39m     )\n\u001b[32m   1235\u001b[39m     \u001b[38;5;28;01mreturn\u001b[39;00m \u001b[38;5;28mgetattr\u001b[39m(estimator, \u001b[33m\"\u001b[39m\u001b[33m_estimator_type\u001b[39m\u001b[33m\"\u001b[39m, \u001b[38;5;28;01mNone\u001b[39;00m) == \u001b[33m\"\u001b[39m\u001b[33mclassifier\u001b[39m\u001b[33m\"\u001b[39m\n\u001b[32m-> \u001b[39m\u001b[32m1237\u001b[39m \u001b[38;5;28;01mreturn\u001b[39;00m \u001b[43mget_tags\u001b[49m\u001b[43m(\u001b[49m\u001b[43mestimator\u001b[49m\u001b[43m)\u001b[49m.estimator_type == \u001b[33m\"\u001b[39m\u001b[33mclassifier\u001b[39m\u001b[33m\"\u001b[39m\n",
      "\u001b[36mFile \u001b[39m\u001b[32mc:\\Users\\tchak\\anaconda3\\envs\\dev\\Lib\\site-packages\\sklearn\\utils\\_tags.py:430\u001b[39m, in \u001b[36mget_tags\u001b[39m\u001b[34m(estimator)\u001b[39m\n\u001b[32m    428\u001b[39m \u001b[38;5;28;01mfor\u001b[39;00m klass \u001b[38;5;129;01min\u001b[39;00m \u001b[38;5;28mreversed\u001b[39m(\u001b[38;5;28mtype\u001b[39m(estimator).mro()):\n\u001b[32m    429\u001b[39m     \u001b[38;5;28;01mif\u001b[39;00m \u001b[33m\"\u001b[39m\u001b[33m__sklearn_tags__\u001b[39m\u001b[33m\"\u001b[39m \u001b[38;5;129;01min\u001b[39;00m \u001b[38;5;28mvars\u001b[39m(klass):\n\u001b[32m--> \u001b[39m\u001b[32m430\u001b[39m         sklearn_tags_provider[klass] = \u001b[43mklass\u001b[49m\u001b[43m.\u001b[49m\u001b[43m__sklearn_tags__\u001b[49m\u001b[43m(\u001b[49m\u001b[43mestimator\u001b[49m\u001b[43m)\u001b[49m  \u001b[38;5;66;03m# type: ignore[attr-defined]\u001b[39;00m\n\u001b[32m    431\u001b[39m         class_order.append(klass)\n\u001b[32m    432\u001b[39m     \u001b[38;5;28;01melif\u001b[39;00m \u001b[33m\"\u001b[39m\u001b[33m_more_tags\u001b[39m\u001b[33m\"\u001b[39m \u001b[38;5;129;01min\u001b[39;00m \u001b[38;5;28mvars\u001b[39m(klass):\n",
      "\u001b[36mFile \u001b[39m\u001b[32mc:\\Users\\tchak\\anaconda3\\envs\\dev\\Lib\\site-packages\\sklearn\\base.py:540\u001b[39m, in \u001b[36mClassifierMixin.__sklearn_tags__\u001b[39m\u001b[34m(self)\u001b[39m\n\u001b[32m    539\u001b[39m \u001b[38;5;28;01mdef\u001b[39;00m\u001b[38;5;250m \u001b[39m\u001b[34m__sklearn_tags__\u001b[39m(\u001b[38;5;28mself\u001b[39m):\n\u001b[32m--> \u001b[39m\u001b[32m540\u001b[39m     tags = \u001b[38;5;28;43msuper\u001b[39;49m\u001b[43m(\u001b[49m\u001b[43m)\u001b[49m\u001b[43m.\u001b[49m\u001b[43m__sklearn_tags__\u001b[49m()\n\u001b[32m    541\u001b[39m     tags.estimator_type = \u001b[33m\"\u001b[39m\u001b[33mclassifier\u001b[39m\u001b[33m\"\u001b[39m\n\u001b[32m    542\u001b[39m     tags.classifier_tags = ClassifierTags()\n",
      "\u001b[31mAttributeError\u001b[39m: 'super' object has no attribute '__sklearn_tags__'"
     ]
    }
   ],
   "source": [
    "disc = [\"Senior Citizen\", \"Partner\", \"Dependents\", \"Multiple Lines\", \"Internet Service\", \"Contract\", \"Paperless Billing\", \"Payment Method\"]\n",
    "cont = [\"Tenure Months\", \"Monthly Charges\", \"CLTV\", \"Services Count\", \"Monthly Charges Cluster\",]\n",
    "misc = [\"Tenure Months Discrete\"]\n",
    "targ = \"Churn Value\"\n",
    "\n",
    "X = df_internet.drop(columns=targ)\n",
    "y = df_internet[targ]\n",
    "X_train, X_test, y_train, y_test = train_test_split(X, y, test_size=0.2, random_state=42, stratify=y)\n",
    "\n",
    "preprocessor = ColumnTransformer(\n",
    "    transformers=[\n",
    "        (\"disc\", OneHotEncoder(drop=\"first\", handle_unknown=\"ignore\"), disc),\n",
    "        (\"cont\", MinMaxScaler(), cont),\n",
    "        (\"pass\", \"passthrough\", misc),\n",
    "    ],\n",
    "    remainder=\"drop\"\n",
    ")\n",
    "\n",
    "X_train_preprocessed = preprocessor.fit_transform(X_train)\n",
    "X_test_preprocessed = preprocessor.transform(X_test)\n",
    "\n",
    "clf = XGBClassifier(random_state=42)\n",
    "cross_val_score(clf, X_train_preprocessed, y_train, scoring=\"recall\", cv=5).mean()"
   ]
  },
  {
   "cell_type": "markdown",
   "metadata": {},
   "source": [
    "### **3.2. Sans Internet**"
   ]
  },
  {
   "cell_type": "code",
   "execution_count": 4,
   "metadata": {},
   "outputs": [
    {
     "ename": "AttributeError",
     "evalue": "'super' object has no attribute '__sklearn_tags__'",
     "output_type": "error",
     "traceback": [
      "\u001b[31m---------------------------------------------------------------------------\u001b[39m",
      "\u001b[31mAttributeError\u001b[39m                            Traceback (most recent call last)",
      "\u001b[36mCell\u001b[39m\u001b[36m \u001b[39m\u001b[32mIn[4]\u001b[39m\u001b[32m, line 22\u001b[39m\n\u001b[32m     19\u001b[39m X_test_preprocessed = preprocessor.transform(X_test)\n\u001b[32m     21\u001b[39m clf = XGBClassifier(random_state=\u001b[32m42\u001b[39m)\n\u001b[32m---> \u001b[39m\u001b[32m22\u001b[39m \u001b[43mcross_val_score\u001b[49m\u001b[43m(\u001b[49m\u001b[43mclf\u001b[49m\u001b[43m,\u001b[49m\u001b[43m \u001b[49m\u001b[43mX_train_preprocessed\u001b[49m\u001b[43m,\u001b[49m\u001b[43m \u001b[49m\u001b[43my_train\u001b[49m\u001b[43m,\u001b[49m\u001b[43m \u001b[49m\u001b[43mscoring\u001b[49m\u001b[43m=\u001b[49m\u001b[33;43m\"\u001b[39;49m\u001b[33;43mrecall\u001b[39;49m\u001b[33;43m\"\u001b[39;49m\u001b[43m,\u001b[49m\u001b[43m \u001b[49m\u001b[43mcv\u001b[49m\u001b[43m=\u001b[49m\u001b[32;43m5\u001b[39;49m\u001b[43m)\u001b[49m.mean()\n",
      "\u001b[36mFile \u001b[39m\u001b[32mc:\\Users\\tchak\\anaconda3\\envs\\dev\\Lib\\site-packages\\sklearn\\utils\\_param_validation.py:216\u001b[39m, in \u001b[36mvalidate_params.<locals>.decorator.<locals>.wrapper\u001b[39m\u001b[34m(*args, **kwargs)\u001b[39m\n\u001b[32m    210\u001b[39m \u001b[38;5;28;01mtry\u001b[39;00m:\n\u001b[32m    211\u001b[39m     \u001b[38;5;28;01mwith\u001b[39;00m config_context(\n\u001b[32m    212\u001b[39m         skip_parameter_validation=(\n\u001b[32m    213\u001b[39m             prefer_skip_nested_validation \u001b[38;5;129;01mor\u001b[39;00m global_skip_validation\n\u001b[32m    214\u001b[39m         )\n\u001b[32m    215\u001b[39m     ):\n\u001b[32m--> \u001b[39m\u001b[32m216\u001b[39m         \u001b[38;5;28;01mreturn\u001b[39;00m \u001b[43mfunc\u001b[49m\u001b[43m(\u001b[49m\u001b[43m*\u001b[49m\u001b[43margs\u001b[49m\u001b[43m,\u001b[49m\u001b[43m \u001b[49m\u001b[43m*\u001b[49m\u001b[43m*\u001b[49m\u001b[43mkwargs\u001b[49m\u001b[43m)\u001b[49m\n\u001b[32m    217\u001b[39m \u001b[38;5;28;01mexcept\u001b[39;00m InvalidParameterError \u001b[38;5;28;01mas\u001b[39;00m e:\n\u001b[32m    218\u001b[39m     \u001b[38;5;66;03m# When the function is just a wrapper around an estimator, we allow\u001b[39;00m\n\u001b[32m    219\u001b[39m     \u001b[38;5;66;03m# the function to delegate validation to the estimator, but we replace\u001b[39;00m\n\u001b[32m    220\u001b[39m     \u001b[38;5;66;03m# the name of the estimator by the name of the function in the error\u001b[39;00m\n\u001b[32m    221\u001b[39m     \u001b[38;5;66;03m# message to avoid confusion.\u001b[39;00m\n\u001b[32m    222\u001b[39m     msg = re.sub(\n\u001b[32m    223\u001b[39m         \u001b[33mr\u001b[39m\u001b[33m\"\u001b[39m\u001b[33mparameter of \u001b[39m\u001b[33m\\\u001b[39m\u001b[33mw+ must be\u001b[39m\u001b[33m\"\u001b[39m,\n\u001b[32m    224\u001b[39m         \u001b[33mf\u001b[39m\u001b[33m\"\u001b[39m\u001b[33mparameter of \u001b[39m\u001b[38;5;132;01m{\u001b[39;00mfunc.\u001b[34m__qualname__\u001b[39m\u001b[38;5;132;01m}\u001b[39;00m\u001b[33m must be\u001b[39m\u001b[33m\"\u001b[39m,\n\u001b[32m    225\u001b[39m         \u001b[38;5;28mstr\u001b[39m(e),\n\u001b[32m    226\u001b[39m     )\n",
      "\u001b[36mFile \u001b[39m\u001b[32mc:\\Users\\tchak\\anaconda3\\envs\\dev\\Lib\\site-packages\\sklearn\\model_selection\\_validation.py:684\u001b[39m, in \u001b[36mcross_val_score\u001b[39m\u001b[34m(estimator, X, y, groups, scoring, cv, n_jobs, verbose, params, pre_dispatch, error_score)\u001b[39m\n\u001b[32m    681\u001b[39m \u001b[38;5;66;03m# To ensure multimetric format is not supported\u001b[39;00m\n\u001b[32m    682\u001b[39m scorer = check_scoring(estimator, scoring=scoring)\n\u001b[32m--> \u001b[39m\u001b[32m684\u001b[39m cv_results = \u001b[43mcross_validate\u001b[49m\u001b[43m(\u001b[49m\n\u001b[32m    685\u001b[39m \u001b[43m    \u001b[49m\u001b[43mestimator\u001b[49m\u001b[43m=\u001b[49m\u001b[43mestimator\u001b[49m\u001b[43m,\u001b[49m\n\u001b[32m    686\u001b[39m \u001b[43m    \u001b[49m\u001b[43mX\u001b[49m\u001b[43m=\u001b[49m\u001b[43mX\u001b[49m\u001b[43m,\u001b[49m\n\u001b[32m    687\u001b[39m \u001b[43m    \u001b[49m\u001b[43my\u001b[49m\u001b[43m=\u001b[49m\u001b[43my\u001b[49m\u001b[43m,\u001b[49m\n\u001b[32m    688\u001b[39m \u001b[43m    \u001b[49m\u001b[43mgroups\u001b[49m\u001b[43m=\u001b[49m\u001b[43mgroups\u001b[49m\u001b[43m,\u001b[49m\n\u001b[32m    689\u001b[39m \u001b[43m    \u001b[49m\u001b[43mscoring\u001b[49m\u001b[43m=\u001b[49m\u001b[43m{\u001b[49m\u001b[33;43m\"\u001b[39;49m\u001b[33;43mscore\u001b[39;49m\u001b[33;43m\"\u001b[39;49m\u001b[43m:\u001b[49m\u001b[43m \u001b[49m\u001b[43mscorer\u001b[49m\u001b[43m}\u001b[49m\u001b[43m,\u001b[49m\n\u001b[32m    690\u001b[39m \u001b[43m    \u001b[49m\u001b[43mcv\u001b[49m\u001b[43m=\u001b[49m\u001b[43mcv\u001b[49m\u001b[43m,\u001b[49m\n\u001b[32m    691\u001b[39m \u001b[43m    \u001b[49m\u001b[43mn_jobs\u001b[49m\u001b[43m=\u001b[49m\u001b[43mn_jobs\u001b[49m\u001b[43m,\u001b[49m\n\u001b[32m    692\u001b[39m \u001b[43m    \u001b[49m\u001b[43mverbose\u001b[49m\u001b[43m=\u001b[49m\u001b[43mverbose\u001b[49m\u001b[43m,\u001b[49m\n\u001b[32m    693\u001b[39m \u001b[43m    \u001b[49m\u001b[43mparams\u001b[49m\u001b[43m=\u001b[49m\u001b[43mparams\u001b[49m\u001b[43m,\u001b[49m\n\u001b[32m    694\u001b[39m \u001b[43m    \u001b[49m\u001b[43mpre_dispatch\u001b[49m\u001b[43m=\u001b[49m\u001b[43mpre_dispatch\u001b[49m\u001b[43m,\u001b[49m\n\u001b[32m    695\u001b[39m \u001b[43m    \u001b[49m\u001b[43merror_score\u001b[49m\u001b[43m=\u001b[49m\u001b[43merror_score\u001b[49m\u001b[43m,\u001b[49m\n\u001b[32m    696\u001b[39m \u001b[43m\u001b[49m\u001b[43m)\u001b[49m\n\u001b[32m    697\u001b[39m \u001b[38;5;28;01mreturn\u001b[39;00m cv_results[\u001b[33m\"\u001b[39m\u001b[33mtest_score\u001b[39m\u001b[33m\"\u001b[39m]\n",
      "\u001b[36mFile \u001b[39m\u001b[32mc:\\Users\\tchak\\anaconda3\\envs\\dev\\Lib\\site-packages\\sklearn\\utils\\_param_validation.py:216\u001b[39m, in \u001b[36mvalidate_params.<locals>.decorator.<locals>.wrapper\u001b[39m\u001b[34m(*args, **kwargs)\u001b[39m\n\u001b[32m    210\u001b[39m \u001b[38;5;28;01mtry\u001b[39;00m:\n\u001b[32m    211\u001b[39m     \u001b[38;5;28;01mwith\u001b[39;00m config_context(\n\u001b[32m    212\u001b[39m         skip_parameter_validation=(\n\u001b[32m    213\u001b[39m             prefer_skip_nested_validation \u001b[38;5;129;01mor\u001b[39;00m global_skip_validation\n\u001b[32m    214\u001b[39m         )\n\u001b[32m    215\u001b[39m     ):\n\u001b[32m--> \u001b[39m\u001b[32m216\u001b[39m         \u001b[38;5;28;01mreturn\u001b[39;00m \u001b[43mfunc\u001b[49m\u001b[43m(\u001b[49m\u001b[43m*\u001b[49m\u001b[43margs\u001b[49m\u001b[43m,\u001b[49m\u001b[43m \u001b[49m\u001b[43m*\u001b[49m\u001b[43m*\u001b[49m\u001b[43mkwargs\u001b[49m\u001b[43m)\u001b[49m\n\u001b[32m    217\u001b[39m \u001b[38;5;28;01mexcept\u001b[39;00m InvalidParameterError \u001b[38;5;28;01mas\u001b[39;00m e:\n\u001b[32m    218\u001b[39m     \u001b[38;5;66;03m# When the function is just a wrapper around an estimator, we allow\u001b[39;00m\n\u001b[32m    219\u001b[39m     \u001b[38;5;66;03m# the function to delegate validation to the estimator, but we replace\u001b[39;00m\n\u001b[32m    220\u001b[39m     \u001b[38;5;66;03m# the name of the estimator by the name of the function in the error\u001b[39;00m\n\u001b[32m    221\u001b[39m     \u001b[38;5;66;03m# message to avoid confusion.\u001b[39;00m\n\u001b[32m    222\u001b[39m     msg = re.sub(\n\u001b[32m    223\u001b[39m         \u001b[33mr\u001b[39m\u001b[33m\"\u001b[39m\u001b[33mparameter of \u001b[39m\u001b[33m\\\u001b[39m\u001b[33mw+ must be\u001b[39m\u001b[33m\"\u001b[39m,\n\u001b[32m    224\u001b[39m         \u001b[33mf\u001b[39m\u001b[33m\"\u001b[39m\u001b[33mparameter of \u001b[39m\u001b[38;5;132;01m{\u001b[39;00mfunc.\u001b[34m__qualname__\u001b[39m\u001b[38;5;132;01m}\u001b[39;00m\u001b[33m must be\u001b[39m\u001b[33m\"\u001b[39m,\n\u001b[32m    225\u001b[39m         \u001b[38;5;28mstr\u001b[39m(e),\n\u001b[32m    226\u001b[39m     )\n",
      "\u001b[36mFile \u001b[39m\u001b[32mc:\\Users\\tchak\\anaconda3\\envs\\dev\\Lib\\site-packages\\sklearn\\model_selection\\_validation.py:347\u001b[39m, in \u001b[36mcross_validate\u001b[39m\u001b[34m(estimator, X, y, groups, scoring, cv, n_jobs, verbose, params, pre_dispatch, return_train_score, return_estimator, return_indices, error_score)\u001b[39m\n\u001b[32m    345\u001b[39m X, y = indexable(X, y)\n\u001b[32m    346\u001b[39m params = {} \u001b[38;5;28;01mif\u001b[39;00m params \u001b[38;5;129;01mis\u001b[39;00m \u001b[38;5;28;01mNone\u001b[39;00m \u001b[38;5;28;01melse\u001b[39;00m params\n\u001b[32m--> \u001b[39m\u001b[32m347\u001b[39m cv = check_cv(cv, y, classifier=\u001b[43mis_classifier\u001b[49m\u001b[43m(\u001b[49m\u001b[43mestimator\u001b[49m\u001b[43m)\u001b[49m)\n\u001b[32m    349\u001b[39m scorers = check_scoring(\n\u001b[32m    350\u001b[39m     estimator, scoring=scoring, raise_exc=(error_score == \u001b[33m\"\u001b[39m\u001b[33mraise\u001b[39m\u001b[33m\"\u001b[39m)\n\u001b[32m    351\u001b[39m )\n\u001b[32m    353\u001b[39m \u001b[38;5;28;01mif\u001b[39;00m _routing_enabled():\n\u001b[32m    354\u001b[39m     \u001b[38;5;66;03m# For estimators, a MetadataRouter is created in get_metadata_routing\u001b[39;00m\n\u001b[32m    355\u001b[39m     \u001b[38;5;66;03m# methods. For these router methods, we create the router to use\u001b[39;00m\n\u001b[32m    356\u001b[39m     \u001b[38;5;66;03m# `process_routing` on it.\u001b[39;00m\n",
      "\u001b[36mFile \u001b[39m\u001b[32mc:\\Users\\tchak\\anaconda3\\envs\\dev\\Lib\\site-packages\\sklearn\\base.py:1237\u001b[39m, in \u001b[36mis_classifier\u001b[39m\u001b[34m(estimator)\u001b[39m\n\u001b[32m   1230\u001b[39m     warnings.warn(\n\u001b[32m   1231\u001b[39m         \u001b[33mf\u001b[39m\u001b[33m\"\u001b[39m\u001b[33mpassing a class to \u001b[39m\u001b[38;5;132;01m{\u001b[39;00m\u001b[38;5;28mprint\u001b[39m(inspect.stack()[\u001b[32m0\u001b[39m][\u001b[32m3\u001b[39m])\u001b[38;5;132;01m}\u001b[39;00m\u001b[33m is deprecated and \u001b[39m\u001b[33m\"\u001b[39m\n\u001b[32m   1232\u001b[39m         \u001b[33m\"\u001b[39m\u001b[33mwill be removed in 1.8. Use an instance of the class instead.\u001b[39m\u001b[33m\"\u001b[39m,\n\u001b[32m   1233\u001b[39m         \u001b[38;5;167;01mFutureWarning\u001b[39;00m,\n\u001b[32m   1234\u001b[39m     )\n\u001b[32m   1235\u001b[39m     \u001b[38;5;28;01mreturn\u001b[39;00m \u001b[38;5;28mgetattr\u001b[39m(estimator, \u001b[33m\"\u001b[39m\u001b[33m_estimator_type\u001b[39m\u001b[33m\"\u001b[39m, \u001b[38;5;28;01mNone\u001b[39;00m) == \u001b[33m\"\u001b[39m\u001b[33mclassifier\u001b[39m\u001b[33m\"\u001b[39m\n\u001b[32m-> \u001b[39m\u001b[32m1237\u001b[39m \u001b[38;5;28;01mreturn\u001b[39;00m \u001b[43mget_tags\u001b[49m\u001b[43m(\u001b[49m\u001b[43mestimator\u001b[49m\u001b[43m)\u001b[49m.estimator_type == \u001b[33m\"\u001b[39m\u001b[33mclassifier\u001b[39m\u001b[33m\"\u001b[39m\n",
      "\u001b[36mFile \u001b[39m\u001b[32mc:\\Users\\tchak\\anaconda3\\envs\\dev\\Lib\\site-packages\\sklearn\\utils\\_tags.py:430\u001b[39m, in \u001b[36mget_tags\u001b[39m\u001b[34m(estimator)\u001b[39m\n\u001b[32m    428\u001b[39m \u001b[38;5;28;01mfor\u001b[39;00m klass \u001b[38;5;129;01min\u001b[39;00m \u001b[38;5;28mreversed\u001b[39m(\u001b[38;5;28mtype\u001b[39m(estimator).mro()):\n\u001b[32m    429\u001b[39m     \u001b[38;5;28;01mif\u001b[39;00m \u001b[33m\"\u001b[39m\u001b[33m__sklearn_tags__\u001b[39m\u001b[33m\"\u001b[39m \u001b[38;5;129;01min\u001b[39;00m \u001b[38;5;28mvars\u001b[39m(klass):\n\u001b[32m--> \u001b[39m\u001b[32m430\u001b[39m         sklearn_tags_provider[klass] = \u001b[43mklass\u001b[49m\u001b[43m.\u001b[49m\u001b[43m__sklearn_tags__\u001b[49m\u001b[43m(\u001b[49m\u001b[43mestimator\u001b[49m\u001b[43m)\u001b[49m  \u001b[38;5;66;03m# type: ignore[attr-defined]\u001b[39;00m\n\u001b[32m    431\u001b[39m         class_order.append(klass)\n\u001b[32m    432\u001b[39m     \u001b[38;5;28;01melif\u001b[39;00m \u001b[33m\"\u001b[39m\u001b[33m_more_tags\u001b[39m\u001b[33m\"\u001b[39m \u001b[38;5;129;01min\u001b[39;00m \u001b[38;5;28mvars\u001b[39m(klass):\n",
      "\u001b[36mFile \u001b[39m\u001b[32mc:\\Users\\tchak\\anaconda3\\envs\\dev\\Lib\\site-packages\\sklearn\\base.py:540\u001b[39m, in \u001b[36mClassifierMixin.__sklearn_tags__\u001b[39m\u001b[34m(self)\u001b[39m\n\u001b[32m    539\u001b[39m \u001b[38;5;28;01mdef\u001b[39;00m\u001b[38;5;250m \u001b[39m\u001b[34m__sklearn_tags__\u001b[39m(\u001b[38;5;28mself\u001b[39m):\n\u001b[32m--> \u001b[39m\u001b[32m540\u001b[39m     tags = \u001b[38;5;28;43msuper\u001b[39;49m\u001b[43m(\u001b[49m\u001b[43m)\u001b[49m\u001b[43m.\u001b[49m\u001b[43m__sklearn_tags__\u001b[49m()\n\u001b[32m    541\u001b[39m     tags.estimator_type = \u001b[33m\"\u001b[39m\u001b[33mclassifier\u001b[39m\u001b[33m\"\u001b[39m\n\u001b[32m    542\u001b[39m     tags.classifier_tags = ClassifierTags()\n",
      "\u001b[31mAttributeError\u001b[39m: 'super' object has no attribute '__sklearn_tags__'"
     ]
    }
   ],
   "source": [
    "disc = [\"Partner\", \"Dependents\", \"Multiple Lines\", \"Contract\", \"Payment Method\"]\n",
    "cont = [\"Tenure Months\", \"Monthly Charges\", \"CLTV\"]\n",
    "misc = [\"Monthly Charges Cluster\", \"Tenure Months Discrete\"]\n",
    "\n",
    "X = df_no_internet.drop(columns=targ)\n",
    "y = df_no_internet[targ]\n",
    "X_train, X_test, y_train, y_test = train_test_split(X, y, test_size=0.2, random_state=42, stratify=y)\n",
    "\n",
    "preprocessor = ColumnTransformer(\n",
    "    transformers=[\n",
    "        (\"disc\", OneHotEncoder(drop=\"first\", handle_unknown=\"ignore\"), disc),\n",
    "        (\"cont\", MinMaxScaler(), cont),\n",
    "        (\"pass\", \"passthrough\", misc),\n",
    "    ],\n",
    "    remainder=\"drop\"\n",
    ")\n",
    "\n",
    "X_train_preprocessed = preprocessor.fit_transform(X_train)\n",
    "X_test_preprocessed = preprocessor.transform(X_test)\n",
    "\n",
    "clf = XGBClassifier(random_state=42)\n",
    "cross_val_score(clf, X_train_preprocessed, y_train, scoring=\"recall\", cv=5).mean()"
   ]
  }
 ],
 "metadata": {
  "kernelspec": {
   "display_name": "dev",
   "language": "python",
   "name": "python3"
  },
  "language_info": {
   "codemirror_mode": {
    "name": "ipython",
    "version": 3
   },
   "file_extension": ".py",
   "mimetype": "text/x-python",
   "name": "python",
   "nbconvert_exporter": "python",
   "pygments_lexer": "ipython3",
   "version": "3.12.3"
  }
 },
 "nbformat": 4,
 "nbformat_minor": 2
}
