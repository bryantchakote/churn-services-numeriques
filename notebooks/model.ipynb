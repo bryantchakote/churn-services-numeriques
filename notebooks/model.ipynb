{
 "cells": [
  {
   "cell_type": "markdown",
   "metadata": {},
   "source": [
    "# **Classification du churn dans une entreprise de services numériques**"
   ]
  },
  {
   "cell_type": "markdown",
   "metadata": {},
   "source": [
    "L'objectif est de prédire la résiliation des clients d'une entreprise de services téléphoniques et Internet à l'aide d'un modèle de Machine Learning.\n",
    "\n",
    "- `CustomerID` : Un identifiant unique pour chaque client.\n",
    "- `Zip Code` : Le code postal de la résidence principale du client.\n",
    "- `Lat Long` : Un tuple représentant les coordonnées GPS du Zip Code.\n",
    "- `Gender` : Le genre du client : Masculin, Féminin.\n",
    "- `Senior Citizen` : Indique si le client a 65 ans ou plus : Oui, Non.\n",
    "- `Partner` : Indique si le client a un partenaire : Oui, Non.\n",
    "- `Dependents` : Indique si le client vit avec des personnes à charge : Oui, Non. Les personnes à charge peuvent être des enfants, parents, grands-parents, etc.\n",
    "- `Tenure Months` : Indique le nombre total de mois que le client a passé avec l'entreprise à la fin du trimestre d'étude.\n",
    "- `Phone Service` : Indique si le client est abonné à un service de téléphone à domicile avec l'entreprise : Oui, Non.\n",
    "- `Multiple Lines` : Indique si le client est abonné à plusieurs lignes téléphoniques avec l'entreprise : Oui, Non.\n",
    "- `Internet Service` : Indique si le client est abonné à un service Internet avec l'entreprise : Non, DSL, Fibre optique.\n",
    "- `Online Security` : Indique si le client est abonné à un service supplémentaire de sécurité en ligne fourni par l'entreprise : Oui, Non.\n",
    "- `Online Backup` : Indique si le client est abonné à un service supplémentaire de sauvegarde en ligne fourni par l'entreprise : Oui, Non.\n",
    "- `Device Protection` : Indique si le client est abonné à un plan de protection supplémentaire pour son équipement Internet fourni par l'entreprise : Oui, Non.\n",
    "- `Tech Support` : Indique si le client est abonné à un plan de support technique supplémentaire avec des temps d'attente réduits : Oui, Non.\n",
    "- `Streaming TV` : Indique si le client utilise son service Internet pour diffuser des programmes télévisés via un fournisseur tiers : Oui, Non. L'entreprise ne facture pas de frais supplémentaires pour ce service.\n",
    "- `Streaming Movies` : Indique si le client utilise son service Internet pour diffuser des films via un fournisseur tiers : Oui, Non. L'entreprise ne facture pas de frais supplémentaires pour ce service.\n",
    "- `Contract` : Indique le type de contrat actuel du client : Mois par Mois, Un an, Deux ans.\n",
    "- `Paperless Billing` : Indique si le client a opté pour la facturation sans papier : Oui, Non.\n",
    "- `Payment Method` : Indique comment le client paye sa facture : Prélèvement bancaire, Carte de crédit, Chèque envoyé par courrier, Chèque automatique.\n",
    "- `Monthly Charges` : Indique le montant total actuel mensuel des services de l'entreprise pour le client.\n",
    "- `Total Charges` : Indique les frais totaux du client, calculés jusqu'à la fin du trimestre spécifié ci-dessus.\n",
    "- `CLTV` : Valeur vie client (Customer Lifetime Value). Une CLTV prédite est calculée à l'aide de formules d'entreprise et de données existantes. Plus la valeur est élevée, plus le client est précieux. Les clients de grande valeur doivent être surveillés pour éviter leur départ.\n",
    "- `Churn Value` : 1 = le client a quitté l'entreprise ce trimestre. 0 = le client est resté avec l'entreprise. Ceci est la variable à prédire."
   ]
  },
  {
   "cell_type": "code",
   "execution_count": 1,
   "metadata": {},
   "outputs": [],
   "source": [
    "import os\n",
    "import joblib\n",
    "import numpy as np\n",
    "import pandas as pd\n",
    "\n",
    "from sklearn.model_selection import train_test_split, cross_val_score, GridSearchCV\n",
    "from sklearn.preprocessing import MinMaxScaler, OneHotEncoder\n",
    "from sklearn.compose import ColumnTransformer\n",
    "from sklearn.metrics import classification_report\n",
    "\n",
    "from sklearn.linear_model import LogisticRegression\n",
    "from xgboost import XGBClassifier\n",
    "\n",
    "from sklearn.cluster import KMeans"
   ]
  },
  {
   "cell_type": "code",
   "execution_count": 2,
   "metadata": {},
   "outputs": [],
   "source": [
    "# Retour au dossier racine\n",
    "os.chdir(\"..\")"
   ]
  },
  {
   "cell_type": "markdown",
   "metadata": {},
   "source": [
    "## **2. Préparation des données**"
   ]
  },
  {
   "cell_type": "code",
   "execution_count": 3,
   "metadata": {},
   "outputs": [],
   "source": [
    "# Chargement\n",
    "df = pd.read_csv(\"./data/DatasetChurn.csv\")\n",
    "\n",
    "# Suppression des valeurs manquantes\n",
    "df.dropna(inplace=True)\n",
    "\n",
    "# Extraction de la latitude et de la longitude\n",
    "df[\"Lat\"] = df[\"Lat Long\"].str.split(\", \").str[0].astype(float)\n",
    "df[\"Long\"] = df[\"Lat Long\"].str.split(\", \").str[1].astype(float)\n",
    "\n",
    "# Identification des nouveaux clients\n",
    "df[\"Is New Client\"] = (df[\"Tenure Months\"] <= 48).astype(int)\n",
    "\n",
    "# Séparation avec/sans Internet\n",
    "df_internet = df.query(\"`Internet Service` != 'No'\").copy()\n",
    "df_no_internet = df.drop(df_internet.index).copy()"
   ]
  },
  {
   "cell_type": "markdown",
   "metadata": {},
   "source": [
    "### **2.1 Avec Internet**"
   ]
  },
  {
   "cell_type": "code",
   "execution_count": 4,
   "metadata": {},
   "outputs": [
    {
     "data": {
      "text/plain": [
       "CustomerID               4569\n",
       "Zip Code                 1638\n",
       "Lat Long                 1638\n",
       "Gender                      2\n",
       "Senior Citizen              2\n",
       "Partner                     2\n",
       "Dependents                  2\n",
       "Tenure Months              72\n",
       "Phone Service               2\n",
       "Multiple Lines              3\n",
       "Internet Service            2\n",
       "Online Security             2\n",
       "Online Backup               2\n",
       "Device Protection           2\n",
       "Tech Support                2\n",
       "Streaming TV                2\n",
       "Streaming Movies            2\n",
       "Contract                    3\n",
       "Paperless Billing           2\n",
       "Payment Method              4\n",
       "Monthly Charges          1427\n",
       "Total Charges            4435\n",
       "Churn Value                 2\n",
       "CLTV                     2798\n",
       "Lat                      1638\n",
       "Long                     1637\n",
       "Is New Client               2\n",
       "Monthly Charges Group      20\n",
       "Services Count              7\n",
       "dtype: int64"
      ]
     },
     "execution_count": 4,
     "metadata": {},
     "output_type": "execute_result"
    }
   ],
   "source": [
    "# Création des clusters de `Monthly Charges`, puis réorganisation des labels\n",
    "# selon l'ordre croissant de leurs médianes pour garantir une progression logique\n",
    "kmeans_internet = KMeans(n_clusters=20, random_state=42)\n",
    "df_internet[\"Monthly Charges Group\"] = kmeans_internet.fit_predict(\n",
    "    df_internet[[\"Monthly Charges\"]]\n",
    ")\n",
    "\n",
    "cluster_medians = df_internet.groupby(\"Monthly Charges Group\")[\n",
    "    \"Monthly Charges\"\n",
    "].median()\n",
    "sorted_clusters = cluster_medians.sort_values().index\n",
    "clusters_mapping_internet = {old: new for new, old in enumerate(sorted_clusters)}\n",
    "df_internet[\"Monthly Charges Group\"] = df_internet[\"Monthly Charges Group\"].map(\n",
    "    clusters_mapping_internet\n",
    ")\n",
    "\n",
    "# Exportation du modèle de clustering de `Monthly Charges`\n",
    "joblib.dump(kmeans_internet, \"./artifacts/internet/kmeans_internet.pkl\")\n",
    "joblib.dump(\n",
    "    clusters_mapping_internet, \"./artifacts/internet/clusters_mapping_internet.pkl\"\n",
    ")\n",
    "\n",
    "# Ajout de la colonne `Services Count` pour compter le nombre de services auxquels le client a souscrit\n",
    "internet_services = [\n",
    "    \"Online Security\",\n",
    "    \"Online Backup\",\n",
    "    \"Device Protection\",\n",
    "    \"Tech Support\",\n",
    "    \"Streaming TV\",\n",
    "    \"Streaming Movies\",\n",
    "]\n",
    "df_internet[\"Services Count\"] = (\n",
    "    df_internet[internet_services]\n",
    "    .replace({\"No\": \"0\", \"Yes\": \"1\"})\n",
    "    .astype(int)\n",
    "    .sum(axis=1)\n",
    ")\n",
    "\n",
    "# Vision d'ensemble\n",
    "df_internet.nunique()"
   ]
  },
  {
   "cell_type": "markdown",
   "metadata": {},
   "source": [
    "### **2.2. Sans Internet**"
   ]
  },
  {
   "cell_type": "code",
   "execution_count": 5,
   "metadata": {},
   "outputs": [
    {
     "data": {
      "text/plain": [
       "CustomerID               1442\n",
       "Zip Code                 1038\n",
       "Lat Long                 1038\n",
       "Gender                      2\n",
       "Senior Citizen              2\n",
       "Partner                     2\n",
       "Dependents                  2\n",
       "Tenure Months              72\n",
       "Phone Service               1\n",
       "Multiple Lines              2\n",
       "Internet Service            1\n",
       "Online Security             1\n",
       "Online Backup               1\n",
       "Device Protection           1\n",
       "Tech Support                1\n",
       "Streaming TV                1\n",
       "Streaming Movies            1\n",
       "Contract                    3\n",
       "Paperless Billing           2\n",
       "Payment Method              4\n",
       "Monthly Charges           121\n",
       "Total Charges            1332\n",
       "Churn Value                 2\n",
       "CLTV                     1218\n",
       "Lat                      1038\n",
       "Long                     1038\n",
       "Is New Client               2\n",
       "Monthly Charges Group       2\n",
       "dtype: int64"
      ]
     },
     "execution_count": 5,
     "metadata": {},
     "output_type": "execute_result"
    }
   ],
   "source": [
    "# Création des clusters de `Monthly Charges`, puis réorganisation des labels\n",
    "# selon l'ordre croissant de leurs médianes pour garantir une progression logique\n",
    "kmeans_no_internet = KMeans(n_clusters=2, random_state=42)\n",
    "df_no_internet[\"Monthly Charges Group\"] = kmeans_no_internet.fit_predict(\n",
    "    df_no_internet[[\"Monthly Charges\"]]\n",
    ")\n",
    "\n",
    "cluster_medians = df_no_internet.groupby(\"Monthly Charges Group\")[\n",
    "    \"Monthly Charges\"\n",
    "].median()\n",
    "sorted_clusters = cluster_medians.sort_values().index\n",
    "clusters_mapping_no_internet = {old: new for new, old in enumerate(sorted_clusters)}\n",
    "df_no_internet[\"Monthly Charges Group\"] = df_no_internet[\"Monthly Charges Group\"].map(\n",
    "    clusters_mapping_no_internet\n",
    ")\n",
    "\n",
    "# Exportation du modèle de clustering de `Monthly Charges`\n",
    "joblib.dump(kmeans_no_internet, \"./artifacts/no_internet/kmeans_no_internet.pkl\")\n",
    "joblib.dump(\n",
    "    clusters_mapping_no_internet,\n",
    "    \"./artifacts/no_internet/clusters_mapping_no_internet.pkl\",\n",
    ")\n",
    "\n",
    "# Vision d'ensemble\n",
    "df_no_internet.nunique()"
   ]
  },
  {
   "cell_type": "markdown",
   "metadata": {},
   "source": [
    "## **3. Model**"
   ]
  },
  {
   "cell_type": "code",
   "execution_count": 6,
   "metadata": {},
   "outputs": [],
   "source": [
    "param_grid = {\n",
    "    \"learning_rate\": np.arange(0.01, 0.05, 0.01),  # taux d'apprentissage\n",
    "    \"scale_pos_weight\": np.arange(\n",
    "        3, 8, 1\n",
    "    ),  # poids associé aux points positifs (minoritaires)\n",
    "    \"subsample\": np.arange(0.8, 1, 1),  # proportion des lignes sélectionnées\n",
    "}"
   ]
  },
  {
   "cell_type": "markdown",
   "metadata": {},
   "source": [
    "### **3.1. Avec Internet**"
   ]
  },
  {
   "cell_type": "markdown",
   "metadata": {},
   "source": [
    "- Nous entraînons d'abord un modèle de régression logistique en testant diverses combinaisons de variables.\n",
    "- La métrique d'intérêt est le rappel; plus il sera élevé et plus on aura de chances d'anticiper les résiliations."
   ]
  },
  {
   "cell_type": "code",
   "execution_count": 7,
   "metadata": {},
   "outputs": [
    {
     "name": "stdout",
     "output_type": "stream",
     "text": [
      "LogisticRegression : 0.3155\n"
     ]
    }
   ],
   "source": [
    "disc = [\n",
    "    # \"Gender\",\n",
    "    \"Senior Citizen\",\n",
    "    \"Partner\",\n",
    "    \"Dependents\",\n",
    "    # \"Phone Service\",\n",
    "    \"Multiple Lines\",\n",
    "    \"Internet Service\",\n",
    "    \"Online Security\",\n",
    "    # \"Online Backup\",\n",
    "    \"Device Protection\",\n",
    "    \"Tech Support\",\n",
    "    \"Streaming TV\",\n",
    "    # \"Streaming Movies\",\n",
    "    \"Contract\",\n",
    "    \"Paperless Billing\",\n",
    "    # \"Payment Method\",\n",
    "    \"Is New Client\",\n",
    "]\n",
    "\n",
    "cont = [\n",
    "    # \"Tenure Months\",\n",
    "    \"Monthly Charges\",\n",
    "    \"Total Charges\",\n",
    "    \"CLTV\",\n",
    "    \"Lat\",\n",
    "    \"Long\",\n",
    "    \"Monthly Charges Group\",\n",
    "    \"Services Count\",\n",
    "]\n",
    "\n",
    "X_internet = df_internet.drop(columns=\"Churn Value\")\n",
    "y_internet = df_internet[\"Churn Value\"]\n",
    "X_train_internet, X_test_internet, y_train_internet, y_test_internet = train_test_split(\n",
    "    X_internet, y_internet, test_size=0.2, random_state=42, stratify=y_internet\n",
    ")\n",
    "\n",
    "preprocessor_internet = ColumnTransformer(\n",
    "    transformers=[\n",
    "        (\"disc\", OneHotEncoder(drop=\"first\", handle_unknown=\"ignore\"), disc),\n",
    "        (\"cont\", MinMaxScaler(), cont),\n",
    "    ],\n",
    "    remainder=\"drop\",\n",
    ")\n",
    "\n",
    "X_train_internet_preprocessed = preprocessor_internet.fit_transform(X_train_internet)\n",
    "\n",
    "clf_internet = LogisticRegression(random_state=42)\n",
    "print(\n",
    "    f\"LogisticRegression : {cross_val_score(clf_internet, X_train_internet_preprocessed, y_train_internet, scoring='recall', cv=5).mean():.4f}\"\n",
    ")"
   ]
  },
  {
   "cell_type": "code",
   "execution_count": 8,
   "metadata": {},
   "outputs": [
    {
     "name": "stdout",
     "output_type": "stream",
     "text": [
      "XGBClassifier : 0.36080302314596124\n"
     ]
    }
   ],
   "source": [
    "clf_internet = XGBClassifier(random_state=42)\n",
    "print(\n",
    "    f\"XGBClassifier : {cross_val_score(clf_internet, X_train_internet_preprocessed, y_train_internet, scoring='recall', cv=5).mean()}\"\n",
    ")"
   ]
  },
  {
   "cell_type": "markdown",
   "metadata": {},
   "source": [
    "- Le modèle de régression logistique est un modèle assez simple qui a servi pour un premier benchmark, mais nous pensons qu'un modèle de type gradient boosting pourrait être mieux ajusté pour augmenter significativement le score.\n",
    "- A la suite de plusieurs tests, on obtient les meilleures performances en supprimant les variables `Gender`, `Phone Service`, `Online Backup`, `Streaming Movies`, `Payment Method` et `Tenure Months`.\n",
    "- Nous effectuons une recherche d'hyperparamètres avec validation-croisée à l'aide d'un `GridSearchCV` en optimisant le score f1 plutôt que le rappel.\n",
    "- L'objectif est d'atteindre un équilibre entre précision et rappel, au lieu d'avoir un rappel trop élevé au détriment de la précision."
   ]
  },
  {
   "cell_type": "code",
   "execution_count": 9,
   "metadata": {},
   "outputs": [
    {
     "name": "stdout",
     "output_type": "stream",
     "text": [
      "Paramètres : {'learning_rate': np.float64(0.02), 'scale_pos_weight': np.int64(3), 'subsample': np.float64(0.8)}\n",
      "Score (f1) : 0.5491262486520087\n"
     ]
    },
    {
     "data": {
      "text/plain": [
       "['./artifacts/internet/model_internet.pkl']"
      ]
     },
     "execution_count": 9,
     "metadata": {},
     "output_type": "execute_result"
    }
   ],
   "source": [
    "model_internet = GridSearchCV(clf_internet, param_grid, scoring=\"f1\", cv=5)\n",
    "model_internet.fit(X_train_internet_preprocessed, y_train_internet)\n",
    "\n",
    "print(\"Paramètres :\", model_internet.best_params_)\n",
    "print(\"Score (f1) :\", model_internet.best_score_)\n",
    "\n",
    "# Exportation du pipeline de preprocessing et du modèle entraînés\n",
    "joblib.dump(preprocessor_internet, \"./artifacts/internet/preprocessor_internet.pkl\")\n",
    "joblib.dump(model_internet, \"./artifacts/internet/model_internet.pkl\")"
   ]
  },
  {
   "cell_type": "markdown",
   "metadata": {},
   "source": [
    "### **3.2. Sans Internet**"
   ]
  },
  {
   "cell_type": "markdown",
   "metadata": {},
   "source": [
    "- Nous poursuivrons avec un `XGBClassifier`, en testant diverses combinaisons de variables."
   ]
  },
  {
   "cell_type": "code",
   "execution_count": 10,
   "metadata": {},
   "outputs": [
    {
     "name": "stdout",
     "output_type": "stream",
     "text": [
      "XGBClassifier : 0.0400\n"
     ]
    }
   ],
   "source": [
    "disc = [\n",
    "    # \"Gender\",\n",
    "    # \"Senior Citizen\",\n",
    "    # \"Partner\",\n",
    "    \"Dependents\",\n",
    "    # \"Multiple Lines\",\n",
    "    \"Contract\",\n",
    "    \"Paperless Billing\",\n",
    "    # \"Payment Method\",\n",
    "    # \"Is New Client\",\n",
    "]\n",
    "cont = [\n",
    "    \"Tenure Months\",\n",
    "    # \"Monthly Charges\",\n",
    "    # \"Total Charges\",\n",
    "    \"CLTV\",\n",
    "    \"Lat\",\n",
    "    \"Long\",\n",
    "    # \"Monthly Charges Group\",\n",
    "]\n",
    "\n",
    "X_no_internet = df_no_internet.drop(columns=\"Churn Value\")\n",
    "y_no_internet = df_no_internet[\"Churn Value\"]\n",
    "X_train_no_internet, X_test_no_internet, y_train_no_internet, y_test_no_internet = (\n",
    "    train_test_split(\n",
    "        X_no_internet,\n",
    "        y_no_internet,\n",
    "        test_size=0.2,\n",
    "        random_state=42,\n",
    "        stratify=y_no_internet,\n",
    "    )\n",
    ")\n",
    "\n",
    "preprocessor_no_internet = ColumnTransformer(\n",
    "    transformers=[\n",
    "        (\"disc\", OneHotEncoder(drop=\"first\", handle_unknown=\"ignore\"), disc),\n",
    "        (\"cont\", MinMaxScaler(), cont),\n",
    "    ],\n",
    "    remainder=\"drop\",\n",
    ")\n",
    "\n",
    "X_train_no_internet_preprocessed = preprocessor_no_internet.fit_transform(\n",
    "    X_train_no_internet\n",
    ")\n",
    "\n",
    "clf_no_internet = XGBClassifier(random_state=42)\n",
    "print(\n",
    "    f\"XGBClassifier : {cross_val_score(clf_no_internet, X_train_no_internet_preprocessed, y_train_no_internet, scoring='recall', cv=5).mean():.4f}\"\n",
    ")"
   ]
  },
  {
   "cell_type": "markdown",
   "metadata": {},
   "source": [
    "- Pour les abonnés sans Internet, le modèle final ne prendra en entrée que 7 variables : `Dependents`, `Contract`, `Paperless Billing`, `Tenure Months`, `CLTV`, `Lat` et `Long`."
   ]
  },
  {
   "cell_type": "code",
   "execution_count": 11,
   "metadata": {},
   "outputs": [
    {
     "name": "stdout",
     "output_type": "stream",
     "text": [
      "Paramètres : {'learning_rate': np.float64(0.04), 'scale_pos_weight': np.int64(6), 'subsample': np.float64(0.8)}\n",
      "Score (f1) : 0.09258204334365325\n"
     ]
    },
    {
     "data": {
      "text/plain": [
       "['./artifacts/no_internet/model_no_internet.pkl']"
      ]
     },
     "execution_count": 11,
     "metadata": {},
     "output_type": "execute_result"
    }
   ],
   "source": [
    "model_no_internet = GridSearchCV(clf_no_internet, param_grid, scoring=\"f1\", cv=5)\n",
    "model_no_internet.fit(X_train_no_internet_preprocessed, y_train_no_internet)\n",
    "\n",
    "print(\"Paramètres :\", model_no_internet.best_params_)\n",
    "print(\"Score (f1) :\", model_no_internet.best_score_)\n",
    "\n",
    "# Exportation du pipeline de preprocessing et du modèle entraînés\n",
    "joblib.dump(\n",
    "    preprocessor_no_internet, \"./artifacts/no_internet/preprocessor_no_internet.pkl\"\n",
    ")\n",
    "joblib.dump(model_no_internet, \"./artifacts/no_internet/model_no_internet.pkl\")"
   ]
  },
  {
   "cell_type": "markdown",
   "metadata": {},
   "source": [
    "### **3.3. Performances globabes**"
   ]
  },
  {
   "cell_type": "code",
   "execution_count": 12,
   "metadata": {},
   "outputs": [
    {
     "name": "stdout",
     "output_type": "stream",
     "text": [
      "              precision    recall  f1-score   support\n",
      "\n",
      "           0       0.92      0.84      0.88       732\n",
      "           1       0.52      0.73      0.61       182\n",
      "\n",
      "    accuracy                           0.81       914\n",
      "   macro avg       0.72      0.78      0.74       914\n",
      "weighted avg       0.84      0.81      0.82       914\n",
      "\n"
     ]
    }
   ],
   "source": [
    "# Evaluation sur le test set (Internet)\n",
    "X_test_internet_preprocessed = preprocessor_internet.transform(X_test_internet)\n",
    "y_pred_internet = model_internet.predict(X_test_internet_preprocessed)\n",
    "print(classification_report(y_true=y_test_internet, y_pred=y_pred_internet))"
   ]
  },
  {
   "cell_type": "code",
   "execution_count": 13,
   "metadata": {},
   "outputs": [
    {
     "name": "stdout",
     "output_type": "stream",
     "text": [
      "              precision    recall  f1-score   support\n",
      "\n",
      "           0       0.97      0.97      0.97       276\n",
      "           1       0.42      0.38      0.40        13\n",
      "\n",
      "    accuracy                           0.95       289\n",
      "   macro avg       0.69      0.68      0.69       289\n",
      "weighted avg       0.95      0.95      0.95       289\n",
      "\n"
     ]
    }
   ],
   "source": [
    "# Evaluation sur le test set (No Internet)\n",
    "X_test_no_internet_preprocessed = preprocessor_no_internet.transform(X_test_no_internet)\n",
    "y_pred_no_internet = model_no_internet.predict(X_test_no_internet_preprocessed)\n",
    "print(classification_report(y_true=y_test_no_internet, y_pred=y_pred_no_internet))"
   ]
  },
  {
   "cell_type": "code",
   "execution_count": 14,
   "metadata": {},
   "outputs": [
    {
     "name": "stdout",
     "output_type": "stream",
     "text": [
      "              precision    recall  f1-score   support\n",
      "\n",
      "           0       0.94      0.87      0.90      1008\n",
      "           1       0.52      0.70      0.60       195\n",
      "\n",
      "    accuracy                           0.85      1203\n",
      "   macro avg       0.73      0.79      0.75      1203\n",
      "weighted avg       0.87      0.85      0.86      1203\n",
      "\n"
     ]
    }
   ],
   "source": [
    "# Evaluation sur le test set (All : modèles spécialisés)\n",
    "y_true = pd.concat([y_test_internet, y_test_no_internet])\n",
    "y_pred = np.concat([y_pred_internet, y_pred_no_internet])\n",
    "print(classification_report(y_true=y_true, y_pred=y_pred))"
   ]
  },
  {
   "cell_type": "markdown",
   "metadata": {},
   "source": [
    "### **3.4. Et si on avait entraîné qu'un seul modèle ?**"
   ]
  },
  {
   "cell_type": "code",
   "execution_count": 15,
   "metadata": {},
   "outputs": [
    {
     "name": "stdout",
     "output_type": "stream",
     "text": [
      "XGBClassifier : 0.3192\n"
     ]
    }
   ],
   "source": [
    "disc = [\n",
    "    # \"Gender\",\n",
    "    \"Senior Citizen\",\n",
    "    \"Partner\",\n",
    "    \"Dependents\",\n",
    "    # \"Phone Service\",\n",
    "    # \"Multiple Lines\",\n",
    "    # \"Internet Service\",\n",
    "    \"Online Security\",\n",
    "    \"Online Backup\",\n",
    "    \"Device Protection\",\n",
    "    \"Tech Support\",\n",
    "    \"Streaming TV\",\n",
    "    \"Streaming Movies\",\n",
    "    # \"Contract\",\n",
    "    \"Paperless Billing\",\n",
    "    # \"Payment Method\",\n",
    "    # \"Is New Client\",\n",
    "]\n",
    "cont = [\n",
    "    \"Tenure Months\",\n",
    "    \"Monthly Charges\",\n",
    "    \"Total Charges\",\n",
    "    \"CLTV\",\n",
    "    \"Lat\",\n",
    "    \"Long\",\n",
    "    # \"Monthly Charges Group\",  d'office, nous n'allons utiliser ni les clusters\n",
    "    # \"Services Count\",         ni le nombre de services Internet dans ce cas\n",
    "]\n",
    "\n",
    "\n",
    "X_train_all = pd.concat([X_train_internet, X_train_no_internet])\n",
    "X_test_all = pd.concat([X_test_internet, X_test_no_internet])\n",
    "y_train_all = pd.concat([y_train_internet, y_train_no_internet])\n",
    "y_test_all = pd.concat([y_test_internet, y_test_no_internet])\n",
    "\n",
    "preprocessor_all = ColumnTransformer(\n",
    "    transformers=[\n",
    "        (\"disc\", OneHotEncoder(drop=\"first\", handle_unknown=\"ignore\"), disc),\n",
    "        (\"cont\", MinMaxScaler(), cont),\n",
    "    ],\n",
    "    remainder=\"drop\",\n",
    ")\n",
    "\n",
    "X_train_all_preprocessed = preprocessor_all.fit_transform(X_train_all)\n",
    "\n",
    "clf_all = XGBClassifier(random_state=42)\n",
    "print(\n",
    "    f\"XGBClassifier : {cross_val_score(clf_all, X_train_all_preprocessed, y_train_all, scoring='recall', cv=5).mean():.4f}\"\n",
    ")"
   ]
  },
  {
   "cell_type": "code",
   "execution_count": 16,
   "metadata": {},
   "outputs": [
    {
     "name": "stdout",
     "output_type": "stream",
     "text": [
      "Paramètres : {'learning_rate': np.float64(0.02), 'scale_pos_weight': np.int64(4), 'subsample': np.float64(0.8)}\n",
      "Score (f1) : 0.5223340926174663\n"
     ]
    },
    {
     "data": {
      "text/plain": [
       "['./artifacts/all/model_all.pkl']"
      ]
     },
     "execution_count": 16,
     "metadata": {},
     "output_type": "execute_result"
    }
   ],
   "source": [
    "model_all = GridSearchCV(clf_all, param_grid, scoring=\"f1\", cv=5)\n",
    "model_all.fit(X_train_all_preprocessed, y_train_all)\n",
    "\n",
    "print(\"Paramètres :\", model_all.best_params_)\n",
    "print(\"Score (f1) :\", model_all.best_score_)\n",
    "\n",
    "# Exportation du pipeline de preprocessing et du modèle entraînés\n",
    "joblib.dump(preprocessor_all, \"./artifacts/all/preprocessor_all.pkl\")\n",
    "joblib.dump(model_all, \"./artifacts/all/model_all.pkl\")"
   ]
  },
  {
   "cell_type": "code",
   "execution_count": 17,
   "metadata": {},
   "outputs": [
    {
     "name": "stdout",
     "output_type": "stream",
     "text": [
      "              precision    recall  f1-score   support\n",
      "\n",
      "           0       0.94      0.84      0.89      1008\n",
      "           1       0.46      0.72      0.57       195\n",
      "\n",
      "    accuracy                           0.82      1203\n",
      "   macro avg       0.70      0.78      0.73      1203\n",
      "weighted avg       0.86      0.82      0.83      1203\n",
      "\n"
     ]
    }
   ],
   "source": [
    "# Evaluation sur le test set (All : modèle unique)\n",
    "X_test_all_preprocessed = preprocessor_all.transform(X_test_all)\n",
    "y_pred_all = model_all.predict(X_test_all_preprocessed)\n",
    "print(classification_report(y_true=y_test_all, y_pred=y_pred_all))"
   ]
  },
  {
   "cell_type": "markdown",
   "metadata": {},
   "source": [
    "**Récapitulatif des performances des différents modèles**\n",
    "\n",
    "| Métrique  | Avec Internet | Sans Internet | Modèle Spécialisé | Modèle Unique |\n",
    "|-----------|--------------:|--------------:|------------------:|--------------:|\n",
    "| Accuracy  |        0.8140 |        0.9481 |        **0.8462** |        0.8196 |\n",
    "| Précision |        0.5238 |        0.4167 |        **0.5189** |        0.4638 |\n",
    "| Rappel    |        0.7253 |        0.3846 |            0.7026 |    **0.7231** |\n",
    "| Score f1  |        0.6083 |        0.4000 |        **0.5969** |        0.5651 |"
   ]
  },
  {
   "cell_type": "markdown",
   "metadata": {},
   "source": [
    "- Notre modèle spécialisé est légèrement meilleur que le modèle unique avec une accuracy à 85%, une précision à 52%, un rappel à 70% et un score f1 à 60%.\n",
    "- Cela signifie que nous pourrons anticiper 7 départs sur 10, mais également que 1 fois sur 2, nous aurons à faire à des fausses alertes.\n",
    "- Dans un contexte réel, les politiques de rétention client impliquant des coûts, nous pourrons, après concertation avec les équipes métier, ajuster le seuil de décision afin de trouver le meilleur compromis entre la réduction des fausses alertes et l'efficacité de la prédiction des résiliations.\n",
    "- Il est également possible d'adopter une stratégie différente selon les probabilités prédites et d'autres critères importants tels que la valeur client, l'ancienneté, etc.\n",
    "- Aussi, du fait de la rareté des résiliations chez les clients sans Internet, le modèle a davantage de difficultés sur ce segment.\n",
    "- Pour gagner en performances, on pourrait donc par exemple envisager, dans la mesure du possible, de rajouter davantage d'abonnés appartenant à cette catégorie et ayant résilié leur contrat afin de permettre au modèle de mieux cerner leurs caractéristiques."
   ]
  }
 ],
 "metadata": {
  "kernelspec": {
   "display_name": "churn-services-numeriques",
   "language": "python",
   "name": "python3"
  },
  "language_info": {
   "codemirror_mode": {
    "name": "ipython",
    "version": 3
   },
   "file_extension": ".py",
   "mimetype": "text/x-python",
   "name": "python",
   "nbconvert_exporter": "python",
   "pygments_lexer": "ipython3",
   "version": "3.11.11"
  }
 },
 "nbformat": 4,
 "nbformat_minor": 2
}
